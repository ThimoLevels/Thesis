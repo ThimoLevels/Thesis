{
 "cells": [
  {
   "cell_type": "code",
   "execution_count": 1,
   "metadata": {},
   "outputs": [
    {
     "name": "stdout",
     "output_type": "stream",
     "text": [
      "Collecting tweet-preprocessor\n",
      "  Downloading tweet_preprocessor-0.6.0-py3-none-any.whl (27 kB)\n",
      "Installing collected packages: tweet-preprocessor\n",
      "Successfully installed tweet-preprocessor-0.6.0\n"
     ]
    }
   ],
   "source": [
    "!pip install tweet-preprocessor\n",
    "!pip install gensim\n",
    "!pip install python-Levenshtein\n",
    "!pip install pycorenlp\n",
    "!pip install sentistrength\n",
    "!pip install wordsegment\n",
    "!pip install autocorrect\n",
    "!pip install truecase\n",
    "#java -mx6g -cp \"*\" edu.stanford.nlp.pipeline.StanfordCoreNLPServer -timeout 5000"
   ]
  },
  {
   "cell_type": "code",
   "execution_count": 2,
   "metadata": {},
   "outputs": [
    {
     "name": "stderr",
     "output_type": "stream",
     "text": [
      "/Users/Thimo/opt/anaconda3/lib/python3.8/site-packages/gensim/similarities/__init__.py:15: UserWarning: The gensim.similarities.levenshtein submodule is disabled, because the optional Levenshtein package <https://pypi.org/project/python-Levenshtein/> is unavailable. Install Levenhstein (e.g. `pip install python-Levenshtein`) to suppress this warning.\n",
      "  warnings.warn(msg)\n"
     ]
    }
   ],
   "source": [
    "import pandas as pd\n",
    "import numpy as np\n",
    "import preprocessor as p\n",
    "from gensim.parsing.preprocessing import remove_stopwords\n",
    "import os\n",
    "from pycorenlp import StanfordCoreNLP\n",
    "import pickle\n",
    "from sentistrength import PySentiStr\n",
    "from tqdm import tqdm\n",
    "import re\n",
    "from wordsegment import load, segment\n",
    "load()\n",
    "from autocorrect import Speller\n",
    "spell = Speller()\n",
    "import truecase"
   ]
  },
  {
   "cell_type": "code",
   "execution_count": 6,
   "metadata": {},
   "outputs": [],
   "source": [
    "def cleaning_tweet_senti(row):\n",
    "    text = row['text']\n",
    "    #Removes RT from the tweet. \n",
    "    text = re.sub('RT @[\\w_]+: ', '', text)\n",
    "    text = re.sub(r\"\\s+$\", \"\", text)\n",
    "    return text"
   ]
  },
  {
   "cell_type": "code",
   "execution_count": 8,
   "metadata": {},
   "outputs": [],
   "source": [
    "def preprocessing_senti(doc_name):\n",
    "    df = pd.read_csv(doc_name, lineterminator='\\n')\n",
    "    \n",
    "    #dropping rows that contain na values\n",
    "    df = df.dropna()\n",
    "    \n",
    "    #selecting tweets where language is english\n",
    "    df = df[df['language'] == 'en']\n",
    "    \n",
    "    #selecting tweets that are job/intern offers\n",
    "    df = df[~df.text.str.contains('Offre')]\n",
    "    df = df[~df.text.str.contains('hiring')]\n",
    "    df = df[~df.text.str.contains('hire')]\n",
    "    df = df[~df.text.str.contains('Apply')]\n",
    "    df = df[~df.text.str.contains('apply')]\n",
    "    df = df[~df.text.str.contains('recruit')]\n",
    "    \n",
    "    #applying the preprocessing to the tweets\n",
    "    df['text'] = df.apply(cleaning_tweet_senti, axis = 1)\n",
    "    \n",
    "    #dropping duplicates from the data\n",
    "    df = df.drop_duplicates()\n",
    "    \n",
    "    return df\n",
    "    "
   ]
  },
  {
   "cell_type": "code",
   "execution_count": 9,
   "metadata": {},
   "outputs": [],
   "source": [
    "filenames = []\n",
    "years = ['2011', '2012', '2013', '2014', '2015']\n",
    "for year in years:\n",
    "    for subdir, dirs, files in os.walk(r'Data Thesis/Oil companies/2011-2015/' + year):\n",
    "        for filename in files:\n",
    "            filepath = subdir + os.sep + filename\n",
    "            #print(filepath)\n",
    "            if filepath.endswith(\".csv\"):\n",
    "                filenames.append(filepath)"
   ]
  },
  {
   "cell_type": "code",
   "execution_count": 10,
   "metadata": {},
   "outputs": [],
   "source": [
    "filenames = sorted(filenames)"
   ]
  },
  {
   "cell_type": "code",
   "execution_count": 11,
   "metadata": {},
   "outputs": [
    {
     "name": "stdout",
     "output_type": "stream",
     "text": [
      "Data Thesis/Oil companies/2011-2015/2011/2011-01-03.csv\n",
      "Data Thesis/Oil companies/2011-2015/2011/2011-01-10.csv\n",
      "Data Thesis/Oil companies/2011-2015/2011/2011-01-17.csv\n",
      "Data Thesis/Oil companies/2011-2015/2011/2011-01-24.csv\n",
      "Data Thesis/Oil companies/2011-2015/2011/2011-01-31.csv\n",
      "Data Thesis/Oil companies/2011-2015/2011/2011-02-07.csv\n",
      "Data Thesis/Oil companies/2011-2015/2011/2011-02-14.csv\n",
      "Data Thesis/Oil companies/2011-2015/2011/2011-02-21.csv\n",
      "Data Thesis/Oil companies/2011-2015/2011/2011-02-28.csv\n",
      "Data Thesis/Oil companies/2011-2015/2011/2011-03-07.csv\n",
      "Data Thesis/Oil companies/2011-2015/2011/2011-03-14.csv\n",
      "Data Thesis/Oil companies/2011-2015/2011/2011-03-21.csv\n",
      "Data Thesis/Oil companies/2011-2015/2011/2011-03-28.csv\n",
      "Data Thesis/Oil companies/2011-2015/2011/2011-04-04.csv\n",
      "Data Thesis/Oil companies/2011-2015/2011/2011-04-11.csv\n",
      "Data Thesis/Oil companies/2011-2015/2011/2011-04-18.csv\n",
      "Data Thesis/Oil companies/2011-2015/2011/2011-04-25.csv\n",
      "Data Thesis/Oil companies/2011-2015/2011/2011-05-02.csv\n",
      "Data Thesis/Oil companies/2011-2015/2011/2011-05-09.csv\n",
      "Data Thesis/Oil companies/2011-2015/2011/2011-05-16.csv\n",
      "Data Thesis/Oil companies/2011-2015/2011/2011-05-23.csv\n",
      "Data Thesis/Oil companies/2011-2015/2011/2011-05-30.csv\n",
      "Data Thesis/Oil companies/2011-2015/2011/2011-06-06.csv\n",
      "Data Thesis/Oil companies/2011-2015/2011/2011-06-13.csv\n",
      "Data Thesis/Oil companies/2011-2015/2011/2011-06-20.csv\n",
      "Data Thesis/Oil companies/2011-2015/2011/2011-06-27.csv\n",
      "Data Thesis/Oil companies/2011-2015/2011/2011-07-04.csv\n",
      "Data Thesis/Oil companies/2011-2015/2011/2011-07-11.csv\n",
      "Data Thesis/Oil companies/2011-2015/2011/2011-07-18.csv\n",
      "Data Thesis/Oil companies/2011-2015/2011/2011-07-25.csv\n",
      "Data Thesis/Oil companies/2011-2015/2011/2011-08-01.csv\n",
      "Data Thesis/Oil companies/2011-2015/2011/2011-08-08.csv\n",
      "Data Thesis/Oil companies/2011-2015/2011/2011-08-15.csv\n",
      "Data Thesis/Oil companies/2011-2015/2011/2011-08-22.csv\n",
      "Data Thesis/Oil companies/2011-2015/2011/2011-08-29.csv\n",
      "Data Thesis/Oil companies/2011-2015/2011/2011-09-05.csv\n",
      "Data Thesis/Oil companies/2011-2015/2011/2011-09-12.csv\n",
      "Data Thesis/Oil companies/2011-2015/2011/2011-09-19.csv\n",
      "Data Thesis/Oil companies/2011-2015/2011/2011-09-26.csv\n",
      "Data Thesis/Oil companies/2011-2015/2011/2011-10-03.csv\n",
      "Data Thesis/Oil companies/2011-2015/2011/2011-10-10.csv\n",
      "Data Thesis/Oil companies/2011-2015/2011/2011-10-17.csv\n",
      "Data Thesis/Oil companies/2011-2015/2011/2011-10-24.csv\n",
      "Data Thesis/Oil companies/2011-2015/2011/2011-10-31.csv\n",
      "Data Thesis/Oil companies/2011-2015/2011/2011-11-07.csv\n",
      "Data Thesis/Oil companies/2011-2015/2011/2011-11-14.csv\n",
      "Data Thesis/Oil companies/2011-2015/2011/2011-11-21.csv\n",
      "Data Thesis/Oil companies/2011-2015/2011/2011-11-28.csv\n",
      "Data Thesis/Oil companies/2011-2015/2011/2011-12-05.csv\n",
      "Data Thesis/Oil companies/2011-2015/2011/2011-12-12.csv\n",
      "Data Thesis/Oil companies/2011-2015/2011/2011-12-19.csv\n",
      "Data Thesis/Oil companies/2011-2015/2011/2011-12-26.csv\n",
      "Data Thesis/Oil companies/2011-2015/2012/2012-01-02.csv\n",
      "Data Thesis/Oil companies/2011-2015/2012/2012-01-09.csv\n",
      "Data Thesis/Oil companies/2011-2015/2012/2012-01-16.csv\n",
      "Data Thesis/Oil companies/2011-2015/2012/2012-01-23.csv\n",
      "Data Thesis/Oil companies/2011-2015/2012/2012-01-30.csv\n",
      "Data Thesis/Oil companies/2011-2015/2012/2012-02-06.csv\n",
      "Data Thesis/Oil companies/2011-2015/2012/2012-02-13.csv\n",
      "Data Thesis/Oil companies/2011-2015/2012/2012-02-20.csv\n",
      "Data Thesis/Oil companies/2011-2015/2012/2012-02-27.csv\n",
      "Data Thesis/Oil companies/2011-2015/2012/2012-03-05.csv\n",
      "Data Thesis/Oil companies/2011-2015/2012/2012-03-12.csv\n",
      "Data Thesis/Oil companies/2011-2015/2012/2012-03-19.csv\n",
      "Data Thesis/Oil companies/2011-2015/2012/2012-03-26.csv\n",
      "Data Thesis/Oil companies/2011-2015/2012/2012-04-02.csv\n",
      "Data Thesis/Oil companies/2011-2015/2012/2012-04-09.csv\n",
      "Data Thesis/Oil companies/2011-2015/2012/2012-04-16.csv\n",
      "Data Thesis/Oil companies/2011-2015/2012/2012-04-23.csv\n",
      "Data Thesis/Oil companies/2011-2015/2012/2012-04-30.csv\n",
      "Data Thesis/Oil companies/2011-2015/2012/2012-05-07.csv\n",
      "Data Thesis/Oil companies/2011-2015/2012/2012-05-14.csv\n",
      "Data Thesis/Oil companies/2011-2015/2012/2012-05-21.csv\n",
      "Data Thesis/Oil companies/2011-2015/2012/2012-05-28.csv\n",
      "Data Thesis/Oil companies/2011-2015/2012/2012-06-04.csv\n",
      "Data Thesis/Oil companies/2011-2015/2012/2012-06-11.csv\n",
      "Data Thesis/Oil companies/2011-2015/2012/2012-06-18.csv\n",
      "Data Thesis/Oil companies/2011-2015/2012/2012-06-25.csv\n",
      "Data Thesis/Oil companies/2011-2015/2012/2012-07-02.csv\n",
      "Data Thesis/Oil companies/2011-2015/2012/2012-07-09.csv\n",
      "Data Thesis/Oil companies/2011-2015/2012/2012-07-16.csv\n",
      "Data Thesis/Oil companies/2011-2015/2012/2012-07-23.csv\n",
      "Data Thesis/Oil companies/2011-2015/2012/2012-07-30.csv\n",
      "Data Thesis/Oil companies/2011-2015/2012/2012-08-06.csv\n",
      "Data Thesis/Oil companies/2011-2015/2012/2012-08-13.csv\n",
      "Data Thesis/Oil companies/2011-2015/2012/2012-08-20.csv\n",
      "Data Thesis/Oil companies/2011-2015/2012/2012-08-27.csv\n",
      "Data Thesis/Oil companies/2011-2015/2012/2012-09-03.csv\n",
      "Data Thesis/Oil companies/2011-2015/2012/2012-09-10.csv\n",
      "Data Thesis/Oil companies/2011-2015/2012/2012-09-17.csv\n",
      "Data Thesis/Oil companies/2011-2015/2012/2012-09-24.csv\n",
      "Data Thesis/Oil companies/2011-2015/2012/2012-10-01.csv\n",
      "Data Thesis/Oil companies/2011-2015/2012/2012-10-08.csv\n",
      "Data Thesis/Oil companies/2011-2015/2012/2012-10-15.csv\n",
      "Data Thesis/Oil companies/2011-2015/2012/2012-10-22.csv\n",
      "Data Thesis/Oil companies/2011-2015/2012/2012-10-29.csv\n",
      "Data Thesis/Oil companies/2011-2015/2012/2012-11-05.csv\n",
      "Data Thesis/Oil companies/2011-2015/2012/2012-11-12.csv\n",
      "Data Thesis/Oil companies/2011-2015/2012/2012-11-19.csv\n",
      "Data Thesis/Oil companies/2011-2015/2012/2012-11-26.csv\n",
      "Data Thesis/Oil companies/2011-2015/2012/2012-12-03.csv\n",
      "Data Thesis/Oil companies/2011-2015/2012/2012-12-10.csv\n",
      "Data Thesis/Oil companies/2011-2015/2012/2012-12-17.csv\n",
      "Data Thesis/Oil companies/2011-2015/2012/2012-12-24.csv\n",
      "Data Thesis/Oil companies/2011-2015/2013/2012-12-31.csv\n",
      "Data Thesis/Oil companies/2011-2015/2013/2013-01-07.csv\n",
      "Data Thesis/Oil companies/2011-2015/2013/2013-01-14.csv\n",
      "Data Thesis/Oil companies/2011-2015/2013/2013-01-21.csv\n",
      "Data Thesis/Oil companies/2011-2015/2013/2013-01-28.csv\n",
      "Data Thesis/Oil companies/2011-2015/2013/2013-02-04.csv\n",
      "Data Thesis/Oil companies/2011-2015/2013/2013-02-11.csv\n",
      "Data Thesis/Oil companies/2011-2015/2013/2013-02-18.csv\n",
      "Data Thesis/Oil companies/2011-2015/2013/2013-02-25.csv\n",
      "Data Thesis/Oil companies/2011-2015/2013/2013-03-04.csv\n",
      "Data Thesis/Oil companies/2011-2015/2013/2013-03-11.csv\n",
      "Data Thesis/Oil companies/2011-2015/2013/2013-03-18.csv\n",
      "Data Thesis/Oil companies/2011-2015/2013/2013-03-25.csv\n",
      "Data Thesis/Oil companies/2011-2015/2013/2013-04-01.csv\n",
      "Data Thesis/Oil companies/2011-2015/2013/2013-04-08.csv\n",
      "Data Thesis/Oil companies/2011-2015/2013/2013-04-15.csv\n",
      "Data Thesis/Oil companies/2011-2015/2013/2013-04-22.csv\n",
      "Data Thesis/Oil companies/2011-2015/2013/2013-04-29.csv\n",
      "Data Thesis/Oil companies/2011-2015/2013/2013-05-06.csv\n",
      "Data Thesis/Oil companies/2011-2015/2013/2013-05-13.csv\n",
      "Data Thesis/Oil companies/2011-2015/2013/2013-05-20.csv\n",
      "Data Thesis/Oil companies/2011-2015/2013/2013-05-27.csv\n",
      "Data Thesis/Oil companies/2011-2015/2013/2013-06-03.csv\n",
      "Data Thesis/Oil companies/2011-2015/2013/2013-06-10.csv\n",
      "Data Thesis/Oil companies/2011-2015/2013/2013-06-17.csv\n",
      "Data Thesis/Oil companies/2011-2015/2013/2013-06-24.csv\n",
      "Data Thesis/Oil companies/2011-2015/2013/2013-07-01.csv\n",
      "Data Thesis/Oil companies/2011-2015/2013/2013-07-08.csv\n",
      "Data Thesis/Oil companies/2011-2015/2013/2013-07-15.csv\n",
      "Data Thesis/Oil companies/2011-2015/2013/2013-07-22.csv\n",
      "Data Thesis/Oil companies/2011-2015/2013/2013-07-29.csv\n",
      "Data Thesis/Oil companies/2011-2015/2013/2013-08-05.csv\n",
      "Data Thesis/Oil companies/2011-2015/2013/2013-08-12.csv\n",
      "Data Thesis/Oil companies/2011-2015/2013/2013-08-19.csv\n",
      "Data Thesis/Oil companies/2011-2015/2013/2013-08-26.csv\n",
      "Data Thesis/Oil companies/2011-2015/2013/2013-09-02.csv\n",
      "Data Thesis/Oil companies/2011-2015/2013/2013-09-09.csv\n",
      "Data Thesis/Oil companies/2011-2015/2013/2013-09-16.csv\n",
      "Data Thesis/Oil companies/2011-2015/2013/2013-09-23.csv\n",
      "Data Thesis/Oil companies/2011-2015/2013/2013-09-30.csv\n",
      "Data Thesis/Oil companies/2011-2015/2013/2013-10-07.csv\n",
      "Data Thesis/Oil companies/2011-2015/2013/2013-10-14.csv\n",
      "Data Thesis/Oil companies/2011-2015/2013/2013-10-21.csv\n",
      "Data Thesis/Oil companies/2011-2015/2013/2013-10-28.csv\n",
      "Data Thesis/Oil companies/2011-2015/2013/2013-11-04.csv\n",
      "Data Thesis/Oil companies/2011-2015/2013/2013-11-11.csv\n",
      "Data Thesis/Oil companies/2011-2015/2013/2013-11-18.csv\n",
      "Data Thesis/Oil companies/2011-2015/2013/2013-11-25.csv\n",
      "Data Thesis/Oil companies/2011-2015/2013/2013-12-02.csv\n",
      "Data Thesis/Oil companies/2011-2015/2013/2013-12-09.csv\n",
      "Data Thesis/Oil companies/2011-2015/2013/2013-12-16.csv\n",
      "Data Thesis/Oil companies/2011-2015/2013/2013-12-23.csv\n",
      "Data Thesis/Oil companies/2011-2015/2014/2013-12-30.csv\n",
      "Data Thesis/Oil companies/2011-2015/2014/2014-01-06.csv\n",
      "Data Thesis/Oil companies/2011-2015/2014/2014-01-13.csv\n",
      "Data Thesis/Oil companies/2011-2015/2014/2014-01-20.csv\n",
      "Data Thesis/Oil companies/2011-2015/2014/2014-01-27.csv\n",
      "Data Thesis/Oil companies/2011-2015/2014/2014-02-03.csv\n",
      "Data Thesis/Oil companies/2011-2015/2014/2014-02-10.csv\n",
      "Data Thesis/Oil companies/2011-2015/2014/2014-02-17.csv\n",
      "Data Thesis/Oil companies/2011-2015/2014/2014-02-24.csv\n",
      "Data Thesis/Oil companies/2011-2015/2014/2014-03-03.csv\n",
      "Data Thesis/Oil companies/2011-2015/2014/2014-03-10.csv\n",
      "Data Thesis/Oil companies/2011-2015/2014/2014-03-17.csv\n",
      "Data Thesis/Oil companies/2011-2015/2014/2014-03-24.csv\n",
      "Data Thesis/Oil companies/2011-2015/2014/2014-03-31.csv\n",
      "Data Thesis/Oil companies/2011-2015/2014/2014-04-07.csv\n",
      "Data Thesis/Oil companies/2011-2015/2014/2014-04-14.csv\n",
      "Data Thesis/Oil companies/2011-2015/2014/2014-04-21.csv\n",
      "Data Thesis/Oil companies/2011-2015/2014/2014-04-28.csv\n",
      "Data Thesis/Oil companies/2011-2015/2014/2014-05-05.csv\n",
      "Data Thesis/Oil companies/2011-2015/2014/2014-05-12.csv\n",
      "Data Thesis/Oil companies/2011-2015/2014/2014-05-19.csv\n",
      "Data Thesis/Oil companies/2011-2015/2014/2014-05-26.csv\n",
      "Data Thesis/Oil companies/2011-2015/2014/2014-06-02.csv\n",
      "Data Thesis/Oil companies/2011-2015/2014/2014-06-09.csv\n",
      "Data Thesis/Oil companies/2011-2015/2014/2014-06-16.csv\n",
      "Data Thesis/Oil companies/2011-2015/2014/2014-06-23.csv\n",
      "Data Thesis/Oil companies/2011-2015/2014/2014-06-30.csv\n",
      "Data Thesis/Oil companies/2011-2015/2014/2014-07-07.csv\n",
      "Data Thesis/Oil companies/2011-2015/2014/2014-07-14.csv\n",
      "Data Thesis/Oil companies/2011-2015/2014/2014-07-21.csv\n",
      "Data Thesis/Oil companies/2011-2015/2014/2014-07-28.csv\n",
      "Data Thesis/Oil companies/2011-2015/2014/2014-08-04.csv\n",
      "Data Thesis/Oil companies/2011-2015/2014/2014-08-11.csv\n",
      "Data Thesis/Oil companies/2011-2015/2014/2014-08-18.csv\n",
      "Data Thesis/Oil companies/2011-2015/2014/2014-08-25.csv\n",
      "Data Thesis/Oil companies/2011-2015/2014/2014-09-01.csv\n",
      "Data Thesis/Oil companies/2011-2015/2014/2014-09-08.csv\n",
      "Data Thesis/Oil companies/2011-2015/2014/2014-09-15.csv\n",
      "Data Thesis/Oil companies/2011-2015/2014/2014-09-22.csv\n",
      "Data Thesis/Oil companies/2011-2015/2014/2014-09-29.csv\n",
      "Data Thesis/Oil companies/2011-2015/2014/2014-10-06.csv\n",
      "Data Thesis/Oil companies/2011-2015/2014/2014-10-13.csv\n",
      "Data Thesis/Oil companies/2011-2015/2014/2014-10-20.csv\n",
      "Data Thesis/Oil companies/2011-2015/2014/2014-10-27.csv\n",
      "Data Thesis/Oil companies/2011-2015/2014/2014-11-03.csv\n",
      "Data Thesis/Oil companies/2011-2015/2014/2014-11-10.csv\n",
      "Data Thesis/Oil companies/2011-2015/2014/2014-11-17.csv\n",
      "Data Thesis/Oil companies/2011-2015/2014/2014-11-24.csv\n",
      "Data Thesis/Oil companies/2011-2015/2014/2014-12-01.csv\n",
      "Data Thesis/Oil companies/2011-2015/2014/2014-12-08.csv\n",
      "Data Thesis/Oil companies/2011-2015/2014/2014-12-15.csv\n",
      "Data Thesis/Oil companies/2011-2015/2014/2014-12-22.csv\n",
      "Data Thesis/Oil companies/2011-2015/2015/2014-12-29.csv\n",
      "Data Thesis/Oil companies/2011-2015/2015/2015-01-05.csv\n",
      "Data Thesis/Oil companies/2011-2015/2015/2015-01-12.csv\n",
      "Data Thesis/Oil companies/2011-2015/2015/2015-01-19.csv\n",
      "Data Thesis/Oil companies/2011-2015/2015/2015-01-26.csv\n",
      "Data Thesis/Oil companies/2011-2015/2015/2015-02-02.csv\n",
      "Data Thesis/Oil companies/2011-2015/2015/2015-02-09.csv\n",
      "Data Thesis/Oil companies/2011-2015/2015/2015-02-16.csv\n",
      "Data Thesis/Oil companies/2011-2015/2015/2015-02-23.csv\n",
      "Data Thesis/Oil companies/2011-2015/2015/2015-03-02.csv\n"
     ]
    }
   ],
   "source": [
    "for name in filenames:\n",
    "    print(name)"
   ]
  },
  {
   "cell_type": "code",
   "execution_count": 12,
   "metadata": {},
   "outputs": [
    {
     "name": "stdout",
     "output_type": "stream",
     "text": [
      "Data Thesis/Oil companies/2011-2015/2012/2012-01-09.csv\n"
     ]
    }
   ],
   "source": [
    "print(filenames[53])"
   ]
  },
  {
   "cell_type": "code",
   "execution_count": 13,
   "metadata": {},
   "outputs": [
    {
     "name": "stdout",
     "output_type": "stream",
     "text": [
      "218\n"
     ]
    }
   ],
   "source": [
    "print(len(filenames))"
   ]
  },
  {
   "cell_type": "code",
   "execution_count": 14,
   "metadata": {},
   "outputs": [],
   "source": [
    "nlp = StanfordCoreNLP('http://localhost:9000')\n",
    "senti = PySentiStr()\n",
    "senti.setSentiStrengthPath('/Users/Thimo/Desktop/Data Science and Society/Thesis/SentiStrengthCom.jar') # Note: Provide absolute path instead of relative path\n",
    "senti.setSentiStrengthLanguageFolderPath('/Users/Thimo/Desktop/Data Science and Society/Thesis/SentStrength_Data_Sept2011/') # Note: Provide absolute path instead of relative path"
   ]
  },
  {
   "cell_type": "markdown",
   "metadata": {},
   "source": [
    "## SentiStrength oil companies 2011-2015"
   ]
  },
  {
   "cell_type": "code",
   "execution_count": 334,
   "metadata": {},
   "outputs": [
    {
     "name": "stderr",
     "output_type": "stream",
     "text": [
      "100%|██████████| 218/218 [3:34:54<00:00, 59.15s/it]  \n"
     ]
    }
   ],
   "source": [
    "s_oil_companies_senti = []\n",
    "for file_name in tqdm(filenames):\n",
    "    tweets = preprocessing_senti(file_name)\n",
    "    week_sentiment = []\n",
    "    for tweet in tweets['text']:\n",
    "        #Sentiment using SentiStrength\n",
    "        result_senti = senti.getSentiment(tweet, score = 'scale')\n",
    "        week_sentiment.append(int(result_senti[0]))\n",
    "    \n",
    "    avg_sentiment = sum(week_sentiment)/len(week_sentiment)\n",
    "    s_oil_companies_senti.append(avg_sentiment)\n",
    "    \n",
    "    "
   ]
  },
  {
   "cell_type": "code",
   "execution_count": 335,
   "metadata": {},
   "outputs": [
    {
     "name": "stdout",
     "output_type": "stream",
     "text": [
      "-0.11267605633802817 0.5540540540540541\n"
     ]
    }
   ],
   "source": [
    "print(min(s_oil_companies_senti), max(s_oil_companies_senti))"
   ]
  },
  {
   "cell_type": "code",
   "execution_count": 336,
   "metadata": {},
   "outputs": [],
   "source": [
    "with open(\"Data Thesis/Oil companies/2011-2015/week_sentiment_senti.txt\", \"wb\") as fp:   #Pickling\n",
    "    pickle.dump(s_oil_companies_senti, fp)"
   ]
  },
  {
   "cell_type": "markdown",
   "metadata": {},
   "source": [
    "## Filenames think tanks 2011-2015"
   ]
  },
  {
   "cell_type": "code",
   "execution_count": 15,
   "metadata": {},
   "outputs": [],
   "source": [
    "filenames_tt = []\n",
    "years = ['2011', '2012', '2013', '2014', '2015']\n",
    "for year in years:\n",
    "    for subdir, dirs, files in os.walk(r'Data Thesis/Think Tanks/2011-2015/' + year):\n",
    "        for filename in files:\n",
    "            filepath = subdir + os.sep + filename\n",
    "            #print(filepath)\n",
    "            if filepath.endswith(\".csv\"):\n",
    "                filenames_tt.append(filepath)"
   ]
  },
  {
   "cell_type": "code",
   "execution_count": 16,
   "metadata": {},
   "outputs": [],
   "source": [
    "filenames_tt = sorted(filenames_tt)"
   ]
  },
  {
   "cell_type": "code",
   "execution_count": 17,
   "metadata": {},
   "outputs": [
    {
     "name": "stdout",
     "output_type": "stream",
     "text": [
      "Data Thesis/Think Tanks/2011-2015/2013/2013-10-21.csv\n"
     ]
    }
   ],
   "source": [
    "for name in filenames_tt[146:147]:\n",
    "    print(name)"
   ]
  },
  {
   "cell_type": "markdown",
   "metadata": {},
   "source": [
    "## SentiStrength think tanks 2011-2015"
   ]
  },
  {
   "cell_type": "code",
   "execution_count": 26,
   "metadata": {},
   "outputs": [
    {
     "name": "stderr",
     "output_type": "stream",
     "text": [
      "100%|██████████| 218/218 [5:45:25<00:00, 95.07s/it]   \n"
     ]
    }
   ],
   "source": [
    "s_think_tanks_senti = []\n",
    "r_opec_members2 = []\n",
    "r_oil_terms2 = []\n",
    "for file_name in tqdm(filenames_tt):\n",
    "    tweets = preprocessing_senti(file_name)\n",
    "    week_sentiment = []\n",
    "    week_opec = 0\n",
    "    week_oil = 0\n",
    "    for tweet in tweets['text']:\n",
    "        #references to oil\n",
    "        if any(word in tweet for word in oil_terms):\n",
    "            week_oil += 1\n",
    "            \n",
    "        #reference to opec members\n",
    "        if any(word in tweet for word in opec_members):\n",
    "            week_opec += 1\n",
    "        \n",
    "        #Sentiment using SentiStrength\n",
    "        result_senti = senti.getSentiment(tweet, score = 'scale')\n",
    "        week_sentiment.append(int(result_senti[0]))\n",
    "    \n",
    "    avg_sentiment = sum(week_sentiment)/len(week_sentiment)\n",
    "    s_think_tanks_senti.append(avg_sentiment)\n",
    "    r_opec_members2.append(week_opec)\n",
    "    r_oil_terms2.append(week_oil)"
   ]
  },
  {
   "cell_type": "code",
   "execution_count": 27,
   "metadata": {},
   "outputs": [
    {
     "name": "stdout",
     "output_type": "stream",
     "text": [
      "-0.4713216957605985 0.06504065040650407\n"
     ]
    }
   ],
   "source": [
    "print(min(s_think_tanks_senti), max(s_think_tanks_senti))"
   ]
  },
  {
   "cell_type": "code",
   "execution_count": 28,
   "metadata": {},
   "outputs": [
    {
     "name": "stdout",
     "output_type": "stream",
     "text": [
      "0 8\n"
     ]
    }
   ],
   "source": [
    "print(min(r_opec_members2), max(r_opec_members2))"
   ]
  },
  {
   "cell_type": "code",
   "execution_count": 29,
   "metadata": {},
   "outputs": [
    {
     "name": "stdout",
     "output_type": "stream",
     "text": [
      "0 15\n"
     ]
    }
   ],
   "source": [
    "print(min(r_oil_terms2), max(r_oil_terms2))"
   ]
  },
  {
   "cell_type": "code",
   "execution_count": 34,
   "metadata": {},
   "outputs": [],
   "source": [
    "with open(\"Data Thesis/Think Tanks/2011-2015/week_sentiment_senti.txt\", \"wb\") as fp:   #Pickling\n",
    "    pickle.dump(s_think_tanks_senti, fp)"
   ]
  },
  {
   "cell_type": "markdown",
   "metadata": {},
   "source": [
    "## Filenames extension dataset"
   ]
  },
  {
   "cell_type": "code",
   "execution_count": 35,
   "metadata": {},
   "outputs": [],
   "source": [
    "filenames_ext = []\n",
    "years = ['2016', '2017', '2018', '2019', '2020']\n",
    "for year in years:\n",
    "    for subdir, dirs, files in os.walk(r'Data Thesis/Oil Companies/2016-2020/' + year):\n",
    "        for filename in files:\n",
    "            filepath = subdir + os.sep + filename\n",
    "            #print(filepath)\n",
    "            if filepath.endswith(\".csv\"):\n",
    "                filenames_ext.append(filepath)"
   ]
  },
  {
   "cell_type": "code",
   "execution_count": 36,
   "metadata": {},
   "outputs": [],
   "source": [
    "filenames_ext = sorted(filenames_ext)"
   ]
  },
  {
   "cell_type": "code",
   "execution_count": 37,
   "metadata": {},
   "outputs": [
    {
     "name": "stdout",
     "output_type": "stream",
     "text": [
      "Data Thesis/Oil Companies/2016-2020/2016/2015-03-09.csv\n",
      "Data Thesis/Oil Companies/2016-2020/2016/2015-03-16.csv\n",
      "Data Thesis/Oil Companies/2016-2020/2016/2015-03-23.csv\n",
      "Data Thesis/Oil Companies/2016-2020/2016/2015-03-30.csv\n",
      "Data Thesis/Oil Companies/2016-2020/2016/2015-04-06.csv\n",
      "Data Thesis/Oil Companies/2016-2020/2016/2015-04-13.csv\n",
      "Data Thesis/Oil Companies/2016-2020/2016/2015-04-20.csv\n",
      "Data Thesis/Oil Companies/2016-2020/2016/2015-04-27.csv\n",
      "Data Thesis/Oil Companies/2016-2020/2016/2015-05-04.csv\n",
      "Data Thesis/Oil Companies/2016-2020/2016/2015-05-11.csv\n",
      "Data Thesis/Oil Companies/2016-2020/2016/2015-05-18.csv\n",
      "Data Thesis/Oil Companies/2016-2020/2016/2015-05-25.csv\n",
      "Data Thesis/Oil Companies/2016-2020/2016/2015-06-01.csv\n",
      "Data Thesis/Oil Companies/2016-2020/2016/2015-06-08.csv\n",
      "Data Thesis/Oil Companies/2016-2020/2016/2015-06-15.csv\n",
      "Data Thesis/Oil Companies/2016-2020/2016/2015-06-22.csv\n",
      "Data Thesis/Oil Companies/2016-2020/2016/2015-06-29.csv\n",
      "Data Thesis/Oil Companies/2016-2020/2016/2015-07-06.csv\n",
      "Data Thesis/Oil Companies/2016-2020/2016/2015-07-13.csv\n",
      "Data Thesis/Oil Companies/2016-2020/2016/2015-07-20.csv\n",
      "Data Thesis/Oil Companies/2016-2020/2016/2015-07-27.csv\n",
      "Data Thesis/Oil Companies/2016-2020/2016/2015-08-03.csv\n",
      "Data Thesis/Oil Companies/2016-2020/2016/2015-08-10.csv\n",
      "Data Thesis/Oil Companies/2016-2020/2016/2015-08-17.csv\n",
      "Data Thesis/Oil Companies/2016-2020/2016/2015-08-24.csv\n",
      "Data Thesis/Oil Companies/2016-2020/2016/2015-08-31.csv\n",
      "Data Thesis/Oil Companies/2016-2020/2016/2015-09-07.csv\n",
      "Data Thesis/Oil Companies/2016-2020/2016/2015-09-14.csv\n",
      "Data Thesis/Oil Companies/2016-2020/2016/2015-09-21.csv\n",
      "Data Thesis/Oil Companies/2016-2020/2016/2015-09-28.csv\n",
      "Data Thesis/Oil Companies/2016-2020/2016/2015-10-05.csv\n",
      "Data Thesis/Oil Companies/2016-2020/2016/2015-10-12.csv\n",
      "Data Thesis/Oil Companies/2016-2020/2016/2015-10-19.csv\n",
      "Data Thesis/Oil Companies/2016-2020/2016/2015-10-26.csv\n",
      "Data Thesis/Oil Companies/2016-2020/2016/2015-11-02.csv\n",
      "Data Thesis/Oil Companies/2016-2020/2016/2015-11-09.csv\n",
      "Data Thesis/Oil Companies/2016-2020/2016/2015-11-16.csv\n",
      "Data Thesis/Oil Companies/2016-2020/2016/2015-11-23.csv\n",
      "Data Thesis/Oil Companies/2016-2020/2016/2015-11-30.csv\n",
      "Data Thesis/Oil Companies/2016-2020/2016/2015-12-07.csv\n",
      "Data Thesis/Oil Companies/2016-2020/2016/2015-12-14.csv\n",
      "Data Thesis/Oil Companies/2016-2020/2016/2015-12-21.csv\n",
      "Data Thesis/Oil Companies/2016-2020/2016/2015-12-28.csv\n",
      "Data Thesis/Oil Companies/2016-2020/2016/2016-01-04.csv\n",
      "Data Thesis/Oil Companies/2016-2020/2016/2016-01-11.csv\n",
      "Data Thesis/Oil Companies/2016-2020/2016/2016-01-18.csv\n",
      "Data Thesis/Oil Companies/2016-2020/2016/2016-01-25.csv\n",
      "Data Thesis/Oil Companies/2016-2020/2016/2016-02-01.csv\n",
      "Data Thesis/Oil Companies/2016-2020/2016/2016-02-08.csv\n",
      "Data Thesis/Oil Companies/2016-2020/2016/2016-02-15.csv\n",
      "Data Thesis/Oil Companies/2016-2020/2016/2016-02-22.csv\n",
      "Data Thesis/Oil Companies/2016-2020/2016/2016-02-29.csv\n",
      "Data Thesis/Oil Companies/2016-2020/2016/2016-03-07.csv\n",
      "Data Thesis/Oil Companies/2016-2020/2016/2016-03-14.csv\n",
      "Data Thesis/Oil Companies/2016-2020/2016/2016-03-21.csv\n",
      "Data Thesis/Oil Companies/2016-2020/2016/2016-03-28.csv\n",
      "Data Thesis/Oil Companies/2016-2020/2016/2016-04-04.csv\n",
      "Data Thesis/Oil Companies/2016-2020/2016/2016-04-11.csv\n",
      "Data Thesis/Oil Companies/2016-2020/2016/2016-04-18.csv\n",
      "Data Thesis/Oil Companies/2016-2020/2016/2016-04-25.csv\n",
      "Data Thesis/Oil Companies/2016-2020/2016/2016-05-02.csv\n",
      "Data Thesis/Oil Companies/2016-2020/2016/2016-05-09.csv\n",
      "Data Thesis/Oil Companies/2016-2020/2016/2016-05-16.csv\n",
      "Data Thesis/Oil Companies/2016-2020/2016/2016-05-23.csv\n",
      "Data Thesis/Oil Companies/2016-2020/2016/2016-05-30.csv\n",
      "Data Thesis/Oil Companies/2016-2020/2016/2016-06-06.csv\n",
      "Data Thesis/Oil Companies/2016-2020/2016/2016-06-13.csv\n",
      "Data Thesis/Oil Companies/2016-2020/2016/2016-06-20.csv\n",
      "Data Thesis/Oil Companies/2016-2020/2016/2016-06-27.csv\n",
      "Data Thesis/Oil Companies/2016-2020/2016/2016-07-04.csv\n",
      "Data Thesis/Oil Companies/2016-2020/2016/2016-07-11.csv\n",
      "Data Thesis/Oil Companies/2016-2020/2016/2016-07-18.csv\n",
      "Data Thesis/Oil Companies/2016-2020/2016/2016-07-25.csv\n",
      "Data Thesis/Oil Companies/2016-2020/2016/2016-08-01.csv\n",
      "Data Thesis/Oil Companies/2016-2020/2016/2016-08-08.csv\n",
      "Data Thesis/Oil Companies/2016-2020/2016/2016-08-15.csv\n",
      "Data Thesis/Oil Companies/2016-2020/2016/2016-08-22.csv\n",
      "Data Thesis/Oil Companies/2016-2020/2016/2016-08-29.csv\n",
      "Data Thesis/Oil Companies/2016-2020/2016/2016-09-05.csv\n",
      "Data Thesis/Oil Companies/2016-2020/2016/2016-09-12.csv\n",
      "Data Thesis/Oil Companies/2016-2020/2016/2016-09-19.csv\n",
      "Data Thesis/Oil Companies/2016-2020/2016/2016-09-26.csv\n",
      "Data Thesis/Oil Companies/2016-2020/2016/2016-10-03.csv\n",
      "Data Thesis/Oil Companies/2016-2020/2016/2016-10-10.csv\n",
      "Data Thesis/Oil Companies/2016-2020/2016/2016-10-17.csv\n",
      "Data Thesis/Oil Companies/2016-2020/2016/2016-10-24.csv\n",
      "Data Thesis/Oil Companies/2016-2020/2016/2016-10-31.csv\n",
      "Data Thesis/Oil Companies/2016-2020/2016/2016-11-07.csv\n",
      "Data Thesis/Oil Companies/2016-2020/2016/2016-11-14.csv\n",
      "Data Thesis/Oil Companies/2016-2020/2016/2016-11-21.csv\n",
      "Data Thesis/Oil Companies/2016-2020/2016/2016-11-28.csv\n",
      "Data Thesis/Oil Companies/2016-2020/2016/2016-12-05.csv\n",
      "Data Thesis/Oil Companies/2016-2020/2016/2016-12-12.csv\n",
      "Data Thesis/Oil Companies/2016-2020/2016/2016-12-19.csv\n",
      "Data Thesis/Oil Companies/2016-2020/2016/2016-12-26.csv\n",
      "Data Thesis/Oil Companies/2016-2020/2017/2017-01-02.csv\n",
      "Data Thesis/Oil Companies/2016-2020/2017/2017-01-09.csv\n",
      "Data Thesis/Oil Companies/2016-2020/2017/2017-01-16.csv\n",
      "Data Thesis/Oil Companies/2016-2020/2017/2017-01-23.csv\n",
      "Data Thesis/Oil Companies/2016-2020/2017/2017-01-30.csv\n",
      "Data Thesis/Oil Companies/2016-2020/2017/2017-02-06.csv\n",
      "Data Thesis/Oil Companies/2016-2020/2017/2017-02-13.csv\n",
      "Data Thesis/Oil Companies/2016-2020/2017/2017-02-20.csv\n",
      "Data Thesis/Oil Companies/2016-2020/2017/2017-02-27.csv\n",
      "Data Thesis/Oil Companies/2016-2020/2017/2017-03-06.csv\n",
      "Data Thesis/Oil Companies/2016-2020/2017/2017-03-13.csv\n",
      "Data Thesis/Oil Companies/2016-2020/2017/2017-03-20.csv\n",
      "Data Thesis/Oil Companies/2016-2020/2017/2017-03-27.csv\n",
      "Data Thesis/Oil Companies/2016-2020/2017/2017-04-03.csv\n",
      "Data Thesis/Oil Companies/2016-2020/2017/2017-04-10.csv\n",
      "Data Thesis/Oil Companies/2016-2020/2017/2017-04-17.csv\n",
      "Data Thesis/Oil Companies/2016-2020/2017/2017-04-24.csv\n",
      "Data Thesis/Oil Companies/2016-2020/2017/2017-05-01.csv\n",
      "Data Thesis/Oil Companies/2016-2020/2017/2017-05-08.csv\n",
      "Data Thesis/Oil Companies/2016-2020/2017/2017-05-15.csv\n",
      "Data Thesis/Oil Companies/2016-2020/2017/2017-05-22.csv\n",
      "Data Thesis/Oil Companies/2016-2020/2017/2017-05-29.csv\n",
      "Data Thesis/Oil Companies/2016-2020/2017/2017-06-05.csv\n",
      "Data Thesis/Oil Companies/2016-2020/2017/2017-06-12.csv\n",
      "Data Thesis/Oil Companies/2016-2020/2017/2017-06-19.csv\n",
      "Data Thesis/Oil Companies/2016-2020/2017/2017-06-26.csv\n",
      "Data Thesis/Oil Companies/2016-2020/2017/2017-07-03.csv\n",
      "Data Thesis/Oil Companies/2016-2020/2017/2017-07-10.csv\n",
      "Data Thesis/Oil Companies/2016-2020/2017/2017-07-17.csv\n",
      "Data Thesis/Oil Companies/2016-2020/2017/2017-07-24.csv\n",
      "Data Thesis/Oil Companies/2016-2020/2017/2017-07-31.csv\n",
      "Data Thesis/Oil Companies/2016-2020/2017/2017-08-07.csv\n",
      "Data Thesis/Oil Companies/2016-2020/2017/2017-08-14.csv\n",
      "Data Thesis/Oil Companies/2016-2020/2017/2017-08-21.csv\n",
      "Data Thesis/Oil Companies/2016-2020/2017/2017-08-28.csv\n",
      "Data Thesis/Oil Companies/2016-2020/2017/2017-09-04.csv\n",
      "Data Thesis/Oil Companies/2016-2020/2017/2017-09-11.csv\n",
      "Data Thesis/Oil Companies/2016-2020/2017/2017-09-18.csv\n",
      "Data Thesis/Oil Companies/2016-2020/2017/2017-09-25.csv\n",
      "Data Thesis/Oil Companies/2016-2020/2017/2017-10-02.csv\n",
      "Data Thesis/Oil Companies/2016-2020/2017/2017-10-09.csv\n",
      "Data Thesis/Oil Companies/2016-2020/2017/2017-10-16.csv\n",
      "Data Thesis/Oil Companies/2016-2020/2017/2017-10-23.csv\n",
      "Data Thesis/Oil Companies/2016-2020/2017/2017-10-30.csv\n",
      "Data Thesis/Oil Companies/2016-2020/2017/2017-11-06.csv\n",
      "Data Thesis/Oil Companies/2016-2020/2017/2017-11-13.csv\n",
      "Data Thesis/Oil Companies/2016-2020/2017/2017-11-20.csv\n",
      "Data Thesis/Oil Companies/2016-2020/2017/2017-11-27.csv\n",
      "Data Thesis/Oil Companies/2016-2020/2017/2017-12-04.csv\n",
      "Data Thesis/Oil Companies/2016-2020/2017/2017-12-11.csv\n",
      "Data Thesis/Oil Companies/2016-2020/2017/2017-12-18.csv\n",
      "Data Thesis/Oil Companies/2016-2020/2017/2017-12-25.csv\n",
      "Data Thesis/Oil Companies/2016-2020/2018/2018-01-01.csv\n",
      "Data Thesis/Oil Companies/2016-2020/2018/2018-01-08.csv\n",
      "Data Thesis/Oil Companies/2016-2020/2018/2018-01-15.csv\n",
      "Data Thesis/Oil Companies/2016-2020/2018/2018-01-22.csv\n",
      "Data Thesis/Oil Companies/2016-2020/2018/2018-01-29.csv\n",
      "Data Thesis/Oil Companies/2016-2020/2018/2018-02-05.csv\n",
      "Data Thesis/Oil Companies/2016-2020/2018/2018-02-12.csv\n",
      "Data Thesis/Oil Companies/2016-2020/2018/2018-02-19.csv\n",
      "Data Thesis/Oil Companies/2016-2020/2018/2018-02-26.csv\n",
      "Data Thesis/Oil Companies/2016-2020/2018/2018-03-05.csv\n",
      "Data Thesis/Oil Companies/2016-2020/2018/2018-03-12.csv\n",
      "Data Thesis/Oil Companies/2016-2020/2018/2018-03-19.csv\n",
      "Data Thesis/Oil Companies/2016-2020/2018/2018-03-26.csv\n",
      "Data Thesis/Oil Companies/2016-2020/2018/2018-04-02.csv\n",
      "Data Thesis/Oil Companies/2016-2020/2018/2018-04-09.csv\n",
      "Data Thesis/Oil Companies/2016-2020/2018/2018-04-16.csv\n",
      "Data Thesis/Oil Companies/2016-2020/2018/2018-04-23.csv\n",
      "Data Thesis/Oil Companies/2016-2020/2018/2018-04-30.csv\n",
      "Data Thesis/Oil Companies/2016-2020/2018/2018-05-07.csv\n",
      "Data Thesis/Oil Companies/2016-2020/2018/2018-05-14.csv\n",
      "Data Thesis/Oil Companies/2016-2020/2018/2018-05-21.csv\n",
      "Data Thesis/Oil Companies/2016-2020/2018/2018-05-28.csv\n",
      "Data Thesis/Oil Companies/2016-2020/2018/2018-06-04.csv\n",
      "Data Thesis/Oil Companies/2016-2020/2018/2018-06-11.csv\n",
      "Data Thesis/Oil Companies/2016-2020/2018/2018-06-18.csv\n",
      "Data Thesis/Oil Companies/2016-2020/2018/2018-06-25.csv\n",
      "Data Thesis/Oil Companies/2016-2020/2018/2018-07-02.csv\n",
      "Data Thesis/Oil Companies/2016-2020/2018/2018-07-09.csv\n",
      "Data Thesis/Oil Companies/2016-2020/2018/2018-07-16.csv\n",
      "Data Thesis/Oil Companies/2016-2020/2018/2018-07-23.csv\n",
      "Data Thesis/Oil Companies/2016-2020/2018/2018-07-30.csv\n",
      "Data Thesis/Oil Companies/2016-2020/2018/2018-08-06.csv\n",
      "Data Thesis/Oil Companies/2016-2020/2018/2018-08-13.csv\n",
      "Data Thesis/Oil Companies/2016-2020/2018/2018-08-20.csv\n",
      "Data Thesis/Oil Companies/2016-2020/2018/2018-08-27.csv\n",
      "Data Thesis/Oil Companies/2016-2020/2018/2018-09-03.csv\n",
      "Data Thesis/Oil Companies/2016-2020/2018/2018-09-10.csv\n",
      "Data Thesis/Oil Companies/2016-2020/2018/2018-09-17.csv\n",
      "Data Thesis/Oil Companies/2016-2020/2018/2018-09-24.csv\n",
      "Data Thesis/Oil Companies/2016-2020/2018/2018-10-01.csv\n",
      "Data Thesis/Oil Companies/2016-2020/2018/2018-10-08.csv\n",
      "Data Thesis/Oil Companies/2016-2020/2018/2018-10-15.csv\n",
      "Data Thesis/Oil Companies/2016-2020/2018/2018-10-22.csv\n",
      "Data Thesis/Oil Companies/2016-2020/2018/2018-10-29.csv\n",
      "Data Thesis/Oil Companies/2016-2020/2018/2018-11-05.csv\n",
      "Data Thesis/Oil Companies/2016-2020/2018/2018-11-12.csv\n",
      "Data Thesis/Oil Companies/2016-2020/2018/2018-11-19.csv\n",
      "Data Thesis/Oil Companies/2016-2020/2018/2018-11-26.csv\n",
      "Data Thesis/Oil Companies/2016-2020/2018/2018-12-03.csv\n",
      "Data Thesis/Oil Companies/2016-2020/2018/2018-12-10.csv\n",
      "Data Thesis/Oil Companies/2016-2020/2018/2018-12-17.csv\n",
      "Data Thesis/Oil Companies/2016-2020/2018/2018-12-24.csv\n",
      "Data Thesis/Oil Companies/2016-2020/2019/2018-12-31.csv\n",
      "Data Thesis/Oil Companies/2016-2020/2019/2019-01-07.csv\n",
      "Data Thesis/Oil Companies/2016-2020/2019/2019-01-14.csv\n",
      "Data Thesis/Oil Companies/2016-2020/2019/2019-01-21.csv\n",
      "Data Thesis/Oil Companies/2016-2020/2019/2019-01-28.csv\n",
      "Data Thesis/Oil Companies/2016-2020/2019/2019-02-04.csv\n",
      "Data Thesis/Oil Companies/2016-2020/2019/2019-02-11.csv\n",
      "Data Thesis/Oil Companies/2016-2020/2019/2019-02-18.csv\n",
      "Data Thesis/Oil Companies/2016-2020/2019/2019-02-25.csv\n",
      "Data Thesis/Oil Companies/2016-2020/2019/2019-03-04.csv\n",
      "Data Thesis/Oil Companies/2016-2020/2019/2019-03-11.csv\n",
      "Data Thesis/Oil Companies/2016-2020/2019/2019-03-18.csv\n",
      "Data Thesis/Oil Companies/2016-2020/2019/2019-03-25.csv\n",
      "Data Thesis/Oil Companies/2016-2020/2019/2019-04-01.csv\n",
      "Data Thesis/Oil Companies/2016-2020/2019/2019-04-08.csv\n",
      "Data Thesis/Oil Companies/2016-2020/2019/2019-04-15.csv\n",
      "Data Thesis/Oil Companies/2016-2020/2019/2019-04-22.csv\n",
      "Data Thesis/Oil Companies/2016-2020/2019/2019-04-29.csv\n",
      "Data Thesis/Oil Companies/2016-2020/2019/2019-05-06.csv\n",
      "Data Thesis/Oil Companies/2016-2020/2019/2019-05-13.csv\n",
      "Data Thesis/Oil Companies/2016-2020/2019/2019-05-20.csv\n",
      "Data Thesis/Oil Companies/2016-2020/2019/2019-05-27.csv\n",
      "Data Thesis/Oil Companies/2016-2020/2019/2019-06-03.csv\n",
      "Data Thesis/Oil Companies/2016-2020/2019/2019-06-10.csv\n",
      "Data Thesis/Oil Companies/2016-2020/2019/2019-06-17.csv\n",
      "Data Thesis/Oil Companies/2016-2020/2019/2019-06-24.csv\n",
      "Data Thesis/Oil Companies/2016-2020/2019/2019-07-01.csv\n",
      "Data Thesis/Oil Companies/2016-2020/2019/2019-07-08.csv\n",
      "Data Thesis/Oil Companies/2016-2020/2019/2019-07-15.csv\n",
      "Data Thesis/Oil Companies/2016-2020/2019/2019-07-22.csv\n",
      "Data Thesis/Oil Companies/2016-2020/2019/2019-07-29.csv\n",
      "Data Thesis/Oil Companies/2016-2020/2019/2019-08-05.csv\n",
      "Data Thesis/Oil Companies/2016-2020/2019/2019-08-12.csv\n",
      "Data Thesis/Oil Companies/2016-2020/2019/2019-08-19.csv\n",
      "Data Thesis/Oil Companies/2016-2020/2019/2019-08-26.csv\n",
      "Data Thesis/Oil Companies/2016-2020/2019/2019-09-02.csv\n",
      "Data Thesis/Oil Companies/2016-2020/2019/2019-09-09.csv\n",
      "Data Thesis/Oil Companies/2016-2020/2019/2019-09-16.csv\n",
      "Data Thesis/Oil Companies/2016-2020/2019/2019-09-23.csv\n",
      "Data Thesis/Oil Companies/2016-2020/2019/2019-09-30.csv\n",
      "Data Thesis/Oil Companies/2016-2020/2019/2019-10-07.csv\n",
      "Data Thesis/Oil Companies/2016-2020/2019/2019-10-14.csv\n",
      "Data Thesis/Oil Companies/2016-2020/2019/2019-10-21.csv\n",
      "Data Thesis/Oil Companies/2016-2020/2019/2019-10-28.csv\n",
      "Data Thesis/Oil Companies/2016-2020/2019/2019-11-04.csv\n",
      "Data Thesis/Oil Companies/2016-2020/2019/2019-11-11.csv\n",
      "Data Thesis/Oil Companies/2016-2020/2019/2019-11-18.csv\n",
      "Data Thesis/Oil Companies/2016-2020/2019/2019-11-25.csv\n",
      "Data Thesis/Oil Companies/2016-2020/2019/2019-12-02.csv\n",
      "Data Thesis/Oil Companies/2016-2020/2019/2019-12-09.csv\n",
      "Data Thesis/Oil Companies/2016-2020/2019/2019-12-16.csv\n",
      "Data Thesis/Oil Companies/2016-2020/2019/2019-12-23.csv\n",
      "Data Thesis/Oil Companies/2016-2020/2019/2019-12-30.csv\n",
      "Data Thesis/Oil Companies/2016-2020/2020/2020-01-06.csv\n",
      "Data Thesis/Oil Companies/2016-2020/2020/2020-01-13.csv\n",
      "Data Thesis/Oil Companies/2016-2020/2020/2020-01-20.csv\n",
      "Data Thesis/Oil Companies/2016-2020/2020/2020-01-27.csv\n",
      "Data Thesis/Oil Companies/2016-2020/2020/2020-02-03.csv\n",
      "Data Thesis/Oil Companies/2016-2020/2020/2020-02-10.csv\n",
      "Data Thesis/Oil Companies/2016-2020/2020/2020-02-17.csv\n",
      "Data Thesis/Oil Companies/2016-2020/2020/2020-02-24.csv\n",
      "Data Thesis/Oil Companies/2016-2020/2020/2020-03-02.csv\n",
      "Data Thesis/Oil Companies/2016-2020/2020/2020-03-09.csv\n",
      "Data Thesis/Oil Companies/2016-2020/2020/2020-03-16.csv\n",
      "Data Thesis/Oil Companies/2016-2020/2020/2020-03-23.csv\n",
      "Data Thesis/Oil Companies/2016-2020/2020/2020-03-30.csv\n",
      "Data Thesis/Oil Companies/2016-2020/2020/2020-04-06.csv\n",
      "Data Thesis/Oil Companies/2016-2020/2020/2020-04-13.csv\n",
      "Data Thesis/Oil Companies/2016-2020/2020/2020-04-20.csv\n",
      "Data Thesis/Oil Companies/2016-2020/2020/2020-04-27.csv\n",
      "Data Thesis/Oil Companies/2016-2020/2020/2020-05-04.csv\n",
      "Data Thesis/Oil Companies/2016-2020/2020/2020-05-11.csv\n",
      "Data Thesis/Oil Companies/2016-2020/2020/2020-05-18.csv\n",
      "Data Thesis/Oil Companies/2016-2020/2020/2020-05-25.csv\n",
      "Data Thesis/Oil Companies/2016-2020/2020/2020-06-01.csv\n",
      "Data Thesis/Oil Companies/2016-2020/2020/2020-06-08.csv\n",
      "Data Thesis/Oil Companies/2016-2020/2020/2020-06-15.csv\n",
      "Data Thesis/Oil Companies/2016-2020/2020/2020-06-22.csv\n",
      "Data Thesis/Oil Companies/2016-2020/2020/2020-06-29.csv\n",
      "Data Thesis/Oil Companies/2016-2020/2020/2020-07-06.csv\n",
      "Data Thesis/Oil Companies/2016-2020/2020/2020-07-13.csv\n",
      "Data Thesis/Oil Companies/2016-2020/2020/2020-07-20.csv\n",
      "Data Thesis/Oil Companies/2016-2020/2020/2020-07-27.csv\n",
      "Data Thesis/Oil Companies/2016-2020/2020/2020-08-03.csv\n",
      "Data Thesis/Oil Companies/2016-2020/2020/2020-08-10.csv\n",
      "Data Thesis/Oil Companies/2016-2020/2020/2020-08-17.csv\n",
      "Data Thesis/Oil Companies/2016-2020/2020/2020-08-24.csv\n",
      "Data Thesis/Oil Companies/2016-2020/2020/2020-08-31.csv\n",
      "Data Thesis/Oil Companies/2016-2020/2020/2020-09-07.csv\n",
      "Data Thesis/Oil Companies/2016-2020/2020/2020-09-14.csv\n",
      "Data Thesis/Oil Companies/2016-2020/2020/2020-09-21.csv\n",
      "Data Thesis/Oil Companies/2016-2020/2020/2020-09-28.csv\n",
      "Data Thesis/Oil Companies/2016-2020/2020/2020-10-05.csv\n",
      "Data Thesis/Oil Companies/2016-2020/2020/2020-10-12.csv\n",
      "Data Thesis/Oil Companies/2016-2020/2020/2020-10-19.csv\n",
      "Data Thesis/Oil Companies/2016-2020/2020/2020-10-26.csv\n",
      "Data Thesis/Oil Companies/2016-2020/2020/2020-11-02.csv\n",
      "Data Thesis/Oil Companies/2016-2020/2020/2020-11-09.csv\n",
      "Data Thesis/Oil Companies/2016-2020/2020/2020-11-16.csv\n",
      "Data Thesis/Oil Companies/2016-2020/2020/2020-11-23.csv\n",
      "Data Thesis/Oil Companies/2016-2020/2020/2020-11-30.csv\n",
      "Data Thesis/Oil Companies/2016-2020/2020/2020-12-07.csv\n",
      "Data Thesis/Oil Companies/2016-2020/2020/2020-12-14.csv\n",
      "Data Thesis/Oil Companies/2016-2020/2020/2020-12-21.csv\n",
      "Data Thesis/Oil Companies/2016-2020/2020/2020-12-28.csv\n"
     ]
    }
   ],
   "source": [
    "for name in filenames_ext:\n",
    "    print(name)"
   ]
  },
  {
   "cell_type": "markdown",
   "metadata": {},
   "source": [
    "## SentiStrength oil companies 2016-2020"
   ]
  },
  {
   "cell_type": "code",
   "execution_count": 42,
   "metadata": {},
   "outputs": [
    {
     "name": "stderr",
     "output_type": "stream",
     "text": [
      "100%|██████████| 304/304 [6:48:57<00:00, 80.72s/it]   \n"
     ]
    }
   ],
   "source": [
    "s_oil_companies_senti_ext = []\n",
    "for file_name in tqdm(filenames_ext):\n",
    "    tweets = preprocessing_senti(file_name)\n",
    "    week_sentiment = []\n",
    "    for tweet in tweets['text']:\n",
    "        #Sentiment using SentiStrength\n",
    "        result_senti = senti.getSentiment(tweet, score = 'scale')\n",
    "        week_sentiment.append(int(result_senti[0]))\n",
    "    \n",
    "    avg_sentiment = sum(week_sentiment)/len(week_sentiment)\n",
    "    s_oil_companies_senti_ext.append(avg_sentiment)"
   ]
  },
  {
   "cell_type": "code",
   "execution_count": 49,
   "metadata": {},
   "outputs": [
    {
     "name": "stdout",
     "output_type": "stream",
     "text": [
      "0.005747126436781609 0.7310924369747899\n"
     ]
    }
   ],
   "source": [
    "print(min(s_oil_companies_senti_ext), max(s_oil_companies_senti_ext))"
   ]
  },
  {
   "cell_type": "code",
   "execution_count": 50,
   "metadata": {},
   "outputs": [],
   "source": [
    "with open(\"Data Thesis/Oil companies/2016-2020/week_sentiment_senti_ext.txt\", \"wb\") as fp:   #Pickling\n",
    "    pickle.dump(s_oil_companies_senti_ext, fp)"
   ]
  },
  {
   "cell_type": "markdown",
   "metadata": {},
   "source": [
    "## Filenames think tanks"
   ]
  },
  {
   "cell_type": "code",
   "execution_count": 43,
   "metadata": {},
   "outputs": [],
   "source": [
    "filenames_ext_tt = []\n",
    "years = ['2016', '2017', '2018', '2019', '2020']\n",
    "for year in years:\n",
    "    for subdir, dirs, files in os.walk(r'Data Thesis/Think Tanks/2016-2020/' + year):\n",
    "        for filename in files:\n",
    "            filepath = subdir + os.sep + filename\n",
    "            #print(filepath)\n",
    "            if filepath.endswith(\".csv\"):\n",
    "                filenames_ext_tt.append(filepath)"
   ]
  },
  {
   "cell_type": "code",
   "execution_count": 44,
   "metadata": {},
   "outputs": [],
   "source": [
    "filenames_ext_tt = sorted(filenames_ext_tt)"
   ]
  },
  {
   "cell_type": "code",
   "execution_count": 46,
   "metadata": {},
   "outputs": [
    {
     "name": "stdout",
     "output_type": "stream",
     "text": [
      "Data Thesis/Think Tanks/2016-2020/2016/2015-03-09.csv\n",
      "Data Thesis/Think Tanks/2016-2020/2016/2015-03-16.csv\n",
      "Data Thesis/Think Tanks/2016-2020/2016/2015-03-23.csv\n",
      "Data Thesis/Think Tanks/2016-2020/2016/2015-03-30.csv\n",
      "Data Thesis/Think Tanks/2016-2020/2016/2015-04-06.csv\n",
      "Data Thesis/Think Tanks/2016-2020/2016/2015-04-13.csv\n",
      "Data Thesis/Think Tanks/2016-2020/2016/2015-04-20.csv\n",
      "Data Thesis/Think Tanks/2016-2020/2016/2015-04-27.csv\n",
      "Data Thesis/Think Tanks/2016-2020/2016/2015-05-04.csv\n",
      "Data Thesis/Think Tanks/2016-2020/2016/2015-05-11.csv\n",
      "Data Thesis/Think Tanks/2016-2020/2016/2015-05-18.csv\n",
      "Data Thesis/Think Tanks/2016-2020/2016/2015-05-25.csv\n",
      "Data Thesis/Think Tanks/2016-2020/2016/2015-06-01.csv\n",
      "Data Thesis/Think Tanks/2016-2020/2016/2015-06-08.csv\n",
      "Data Thesis/Think Tanks/2016-2020/2016/2015-06-15.csv\n",
      "Data Thesis/Think Tanks/2016-2020/2016/2015-06-22.csv\n",
      "Data Thesis/Think Tanks/2016-2020/2016/2015-06-29.csv\n",
      "Data Thesis/Think Tanks/2016-2020/2016/2015-07-06.csv\n",
      "Data Thesis/Think Tanks/2016-2020/2016/2015-07-13.csv\n",
      "Data Thesis/Think Tanks/2016-2020/2016/2015-07-20.csv\n",
      "Data Thesis/Think Tanks/2016-2020/2016/2015-07-27.csv\n",
      "Data Thesis/Think Tanks/2016-2020/2016/2015-08-03.csv\n",
      "Data Thesis/Think Tanks/2016-2020/2016/2015-08-10.csv\n",
      "Data Thesis/Think Tanks/2016-2020/2016/2015-08-17.csv\n",
      "Data Thesis/Think Tanks/2016-2020/2016/2015-08-24.csv\n",
      "Data Thesis/Think Tanks/2016-2020/2016/2015-08-31.csv\n",
      "Data Thesis/Think Tanks/2016-2020/2016/2015-09-07.csv\n",
      "Data Thesis/Think Tanks/2016-2020/2016/2015-09-14.csv\n",
      "Data Thesis/Think Tanks/2016-2020/2016/2015-09-21.csv\n",
      "Data Thesis/Think Tanks/2016-2020/2016/2015-09-28.csv\n",
      "Data Thesis/Think Tanks/2016-2020/2016/2015-10-05.csv\n",
      "Data Thesis/Think Tanks/2016-2020/2016/2015-10-12.csv\n",
      "Data Thesis/Think Tanks/2016-2020/2016/2015-10-19.csv\n",
      "Data Thesis/Think Tanks/2016-2020/2016/2015-10-26.csv\n",
      "Data Thesis/Think Tanks/2016-2020/2016/2015-11-02.csv\n",
      "Data Thesis/Think Tanks/2016-2020/2016/2015-11-09.csv\n",
      "Data Thesis/Think Tanks/2016-2020/2016/2015-11-16.csv\n",
      "Data Thesis/Think Tanks/2016-2020/2016/2015-11-23.csv\n",
      "Data Thesis/Think Tanks/2016-2020/2016/2015-11-30.csv\n",
      "Data Thesis/Think Tanks/2016-2020/2016/2015-12-07.csv\n",
      "Data Thesis/Think Tanks/2016-2020/2016/2015-12-14.csv\n",
      "Data Thesis/Think Tanks/2016-2020/2016/2015-12-21.csv\n",
      "Data Thesis/Think Tanks/2016-2020/2016/2015-12-28.csv\n",
      "Data Thesis/Think Tanks/2016-2020/2016/2016-01-04.csv\n",
      "Data Thesis/Think Tanks/2016-2020/2016/2016-01-11.csv\n",
      "Data Thesis/Think Tanks/2016-2020/2016/2016-01-18.csv\n",
      "Data Thesis/Think Tanks/2016-2020/2016/2016-01-25.csv\n",
      "Data Thesis/Think Tanks/2016-2020/2016/2016-02-01.csv\n",
      "Data Thesis/Think Tanks/2016-2020/2016/2016-02-08.csv\n",
      "Data Thesis/Think Tanks/2016-2020/2016/2016-02-15.csv\n",
      "Data Thesis/Think Tanks/2016-2020/2016/2016-02-22.csv\n",
      "Data Thesis/Think Tanks/2016-2020/2016/2016-02-29.csv\n",
      "Data Thesis/Think Tanks/2016-2020/2016/2016-03-07.csv\n",
      "Data Thesis/Think Tanks/2016-2020/2016/2016-03-14.csv\n",
      "Data Thesis/Think Tanks/2016-2020/2016/2016-03-21.csv\n",
      "Data Thesis/Think Tanks/2016-2020/2016/2016-03-28.csv\n",
      "Data Thesis/Think Tanks/2016-2020/2016/2016-04-04.csv\n",
      "Data Thesis/Think Tanks/2016-2020/2016/2016-04-11.csv\n",
      "Data Thesis/Think Tanks/2016-2020/2016/2016-04-18.csv\n",
      "Data Thesis/Think Tanks/2016-2020/2016/2016-04-25.csv\n",
      "Data Thesis/Think Tanks/2016-2020/2016/2016-05-02.csv\n",
      "Data Thesis/Think Tanks/2016-2020/2016/2016-05-09.csv\n",
      "Data Thesis/Think Tanks/2016-2020/2016/2016-05-16.csv\n",
      "Data Thesis/Think Tanks/2016-2020/2016/2016-05-23.csv\n",
      "Data Thesis/Think Tanks/2016-2020/2016/2016-05-30.csv\n",
      "Data Thesis/Think Tanks/2016-2020/2016/2016-06-06.csv\n",
      "Data Thesis/Think Tanks/2016-2020/2016/2016-06-13.csv\n",
      "Data Thesis/Think Tanks/2016-2020/2016/2016-06-20.csv\n",
      "Data Thesis/Think Tanks/2016-2020/2016/2016-06-27.csv\n",
      "Data Thesis/Think Tanks/2016-2020/2016/2016-07-04.csv\n",
      "Data Thesis/Think Tanks/2016-2020/2016/2016-07-11.csv\n",
      "Data Thesis/Think Tanks/2016-2020/2016/2016-07-18.csv\n",
      "Data Thesis/Think Tanks/2016-2020/2016/2016-07-25.csv\n",
      "Data Thesis/Think Tanks/2016-2020/2016/2016-08-01.csv\n",
      "Data Thesis/Think Tanks/2016-2020/2016/2016-08-08.csv\n",
      "Data Thesis/Think Tanks/2016-2020/2016/2016-08-15.csv\n",
      "Data Thesis/Think Tanks/2016-2020/2016/2016-08-22.csv\n",
      "Data Thesis/Think Tanks/2016-2020/2016/2016-08-29.csv\n",
      "Data Thesis/Think Tanks/2016-2020/2016/2016-09-05.csv\n",
      "Data Thesis/Think Tanks/2016-2020/2016/2016-09-12.csv\n",
      "Data Thesis/Think Tanks/2016-2020/2016/2016-09-19.csv\n",
      "Data Thesis/Think Tanks/2016-2020/2016/2016-09-26.csv\n",
      "Data Thesis/Think Tanks/2016-2020/2016/2016-10-03.csv\n",
      "Data Thesis/Think Tanks/2016-2020/2016/2016-10-10.csv\n",
      "Data Thesis/Think Tanks/2016-2020/2016/2016-10-17.csv\n",
      "Data Thesis/Think Tanks/2016-2020/2016/2016-10-24.csv\n",
      "Data Thesis/Think Tanks/2016-2020/2016/2016-10-31.csv\n",
      "Data Thesis/Think Tanks/2016-2020/2016/2016-11-07.csv\n",
      "Data Thesis/Think Tanks/2016-2020/2016/2016-11-14.csv\n",
      "Data Thesis/Think Tanks/2016-2020/2016/2016-11-21.csv\n",
      "Data Thesis/Think Tanks/2016-2020/2016/2016-11-28.csv\n",
      "Data Thesis/Think Tanks/2016-2020/2016/2016-12-05.csv\n",
      "Data Thesis/Think Tanks/2016-2020/2016/2016-12-12.csv\n",
      "Data Thesis/Think Tanks/2016-2020/2016/2016-12-19.csv\n",
      "Data Thesis/Think Tanks/2016-2020/2016/2016-12-26.csv\n",
      "Data Thesis/Think Tanks/2016-2020/2017/2017-01-02.csv\n",
      "Data Thesis/Think Tanks/2016-2020/2017/2017-01-09.csv\n",
      "Data Thesis/Think Tanks/2016-2020/2017/2017-01-16.csv\n",
      "Data Thesis/Think Tanks/2016-2020/2017/2017-01-23.csv\n",
      "Data Thesis/Think Tanks/2016-2020/2017/2017-01-30.csv\n",
      "Data Thesis/Think Tanks/2016-2020/2017/2017-02-06.csv\n",
      "Data Thesis/Think Tanks/2016-2020/2017/2017-02-13.csv\n",
      "Data Thesis/Think Tanks/2016-2020/2017/2017-02-20.csv\n",
      "Data Thesis/Think Tanks/2016-2020/2017/2017-02-27.csv\n",
      "Data Thesis/Think Tanks/2016-2020/2017/2017-03-06.csv\n",
      "Data Thesis/Think Tanks/2016-2020/2017/2017-03-13.csv\n",
      "Data Thesis/Think Tanks/2016-2020/2017/2017-03-20.csv\n",
      "Data Thesis/Think Tanks/2016-2020/2017/2017-03-27.csv\n",
      "Data Thesis/Think Tanks/2016-2020/2017/2017-04-03.csv\n",
      "Data Thesis/Think Tanks/2016-2020/2017/2017-04-10.csv\n",
      "Data Thesis/Think Tanks/2016-2020/2017/2017-04-17.csv\n",
      "Data Thesis/Think Tanks/2016-2020/2017/2017-04-24.csv\n",
      "Data Thesis/Think Tanks/2016-2020/2017/2017-05-01.csv\n",
      "Data Thesis/Think Tanks/2016-2020/2017/2017-05-08.csv\n",
      "Data Thesis/Think Tanks/2016-2020/2017/2017-05-15.csv\n",
      "Data Thesis/Think Tanks/2016-2020/2017/2017-05-22.csv\n",
      "Data Thesis/Think Tanks/2016-2020/2017/2017-05-29.csv\n",
      "Data Thesis/Think Tanks/2016-2020/2017/2017-06-05.csv\n",
      "Data Thesis/Think Tanks/2016-2020/2017/2017-06-12.csv\n",
      "Data Thesis/Think Tanks/2016-2020/2017/2017-06-19.csv\n",
      "Data Thesis/Think Tanks/2016-2020/2017/2017-06-26.csv\n",
      "Data Thesis/Think Tanks/2016-2020/2017/2017-07-03.csv\n",
      "Data Thesis/Think Tanks/2016-2020/2017/2017-07-10.csv\n",
      "Data Thesis/Think Tanks/2016-2020/2017/2017-07-17.csv\n",
      "Data Thesis/Think Tanks/2016-2020/2017/2017-07-24.csv\n",
      "Data Thesis/Think Tanks/2016-2020/2017/2017-07-31.csv\n",
      "Data Thesis/Think Tanks/2016-2020/2017/2017-08-07.csv\n",
      "Data Thesis/Think Tanks/2016-2020/2017/2017-08-14.csv\n",
      "Data Thesis/Think Tanks/2016-2020/2017/2017-08-21.csv\n",
      "Data Thesis/Think Tanks/2016-2020/2017/2017-08-28.csv\n",
      "Data Thesis/Think Tanks/2016-2020/2017/2017-09-04.csv\n",
      "Data Thesis/Think Tanks/2016-2020/2017/2017-09-11.csv\n",
      "Data Thesis/Think Tanks/2016-2020/2017/2017-09-18.csv\n",
      "Data Thesis/Think Tanks/2016-2020/2017/2017-09-25.csv\n",
      "Data Thesis/Think Tanks/2016-2020/2017/2017-10-02.csv\n",
      "Data Thesis/Think Tanks/2016-2020/2017/2017-10-09.csv\n",
      "Data Thesis/Think Tanks/2016-2020/2017/2017-10-16.csv\n",
      "Data Thesis/Think Tanks/2016-2020/2017/2017-10-23.csv\n",
      "Data Thesis/Think Tanks/2016-2020/2017/2017-10-30.csv\n",
      "Data Thesis/Think Tanks/2016-2020/2017/2017-11-06.csv\n",
      "Data Thesis/Think Tanks/2016-2020/2017/2017-11-13.csv\n",
      "Data Thesis/Think Tanks/2016-2020/2017/2017-11-20.csv\n",
      "Data Thesis/Think Tanks/2016-2020/2017/2017-11-27.csv\n",
      "Data Thesis/Think Tanks/2016-2020/2017/2017-12-04.csv\n",
      "Data Thesis/Think Tanks/2016-2020/2017/2017-12-11.csv\n",
      "Data Thesis/Think Tanks/2016-2020/2017/2017-12-18.csv\n",
      "Data Thesis/Think Tanks/2016-2020/2017/2017-12-25.csv\n",
      "Data Thesis/Think Tanks/2016-2020/2018/2018-01-01.csv\n",
      "Data Thesis/Think Tanks/2016-2020/2018/2018-01-08.csv\n",
      "Data Thesis/Think Tanks/2016-2020/2018/2018-01-15.csv\n",
      "Data Thesis/Think Tanks/2016-2020/2018/2018-01-22.csv\n",
      "Data Thesis/Think Tanks/2016-2020/2018/2018-01-29.csv\n",
      "Data Thesis/Think Tanks/2016-2020/2018/2018-02-05.csv\n",
      "Data Thesis/Think Tanks/2016-2020/2018/2018-02-12.csv\n",
      "Data Thesis/Think Tanks/2016-2020/2018/2018-02-19.csv\n",
      "Data Thesis/Think Tanks/2016-2020/2018/2018-02-26.csv\n",
      "Data Thesis/Think Tanks/2016-2020/2018/2018-03-05.csv\n",
      "Data Thesis/Think Tanks/2016-2020/2018/2018-03-12.csv\n",
      "Data Thesis/Think Tanks/2016-2020/2018/2018-03-19.csv\n",
      "Data Thesis/Think Tanks/2016-2020/2018/2018-03-26.csv\n",
      "Data Thesis/Think Tanks/2016-2020/2018/2018-04-02.csv\n",
      "Data Thesis/Think Tanks/2016-2020/2018/2018-04-09.csv\n",
      "Data Thesis/Think Tanks/2016-2020/2018/2018-04-16.csv\n",
      "Data Thesis/Think Tanks/2016-2020/2018/2018-04-23.csv\n",
      "Data Thesis/Think Tanks/2016-2020/2018/2018-04-30.csv\n",
      "Data Thesis/Think Tanks/2016-2020/2018/2018-05-07.csv\n",
      "Data Thesis/Think Tanks/2016-2020/2018/2018-05-14.csv\n",
      "Data Thesis/Think Tanks/2016-2020/2018/2018-05-21.csv\n",
      "Data Thesis/Think Tanks/2016-2020/2018/2018-05-28.csv\n",
      "Data Thesis/Think Tanks/2016-2020/2018/2018-06-04.csv\n",
      "Data Thesis/Think Tanks/2016-2020/2018/2018-06-11.csv\n",
      "Data Thesis/Think Tanks/2016-2020/2018/2018-06-18.csv\n",
      "Data Thesis/Think Tanks/2016-2020/2018/2018-06-25.csv\n",
      "Data Thesis/Think Tanks/2016-2020/2018/2018-07-02.csv\n",
      "Data Thesis/Think Tanks/2016-2020/2018/2018-07-09.csv\n",
      "Data Thesis/Think Tanks/2016-2020/2018/2018-07-16.csv\n",
      "Data Thesis/Think Tanks/2016-2020/2018/2018-07-23.csv\n",
      "Data Thesis/Think Tanks/2016-2020/2018/2018-07-30.csv\n",
      "Data Thesis/Think Tanks/2016-2020/2018/2018-08-06.csv\n",
      "Data Thesis/Think Tanks/2016-2020/2018/2018-08-13.csv\n",
      "Data Thesis/Think Tanks/2016-2020/2018/2018-08-20.csv\n",
      "Data Thesis/Think Tanks/2016-2020/2018/2018-08-27.csv\n",
      "Data Thesis/Think Tanks/2016-2020/2018/2018-09-03.csv\n",
      "Data Thesis/Think Tanks/2016-2020/2018/2018-09-10.csv\n",
      "Data Thesis/Think Tanks/2016-2020/2018/2018-09-17.csv\n",
      "Data Thesis/Think Tanks/2016-2020/2018/2018-09-24.csv\n",
      "Data Thesis/Think Tanks/2016-2020/2018/2018-10-01.csv\n",
      "Data Thesis/Think Tanks/2016-2020/2018/2018-10-08.csv\n",
      "Data Thesis/Think Tanks/2016-2020/2018/2018-10-15.csv\n",
      "Data Thesis/Think Tanks/2016-2020/2018/2018-10-22.csv\n",
      "Data Thesis/Think Tanks/2016-2020/2018/2018-10-29.csv\n",
      "Data Thesis/Think Tanks/2016-2020/2018/2018-11-05.csv\n",
      "Data Thesis/Think Tanks/2016-2020/2018/2018-11-12.csv\n",
      "Data Thesis/Think Tanks/2016-2020/2018/2018-11-19.csv\n",
      "Data Thesis/Think Tanks/2016-2020/2018/2018-11-26.csv\n",
      "Data Thesis/Think Tanks/2016-2020/2018/2018-12-03.csv\n",
      "Data Thesis/Think Tanks/2016-2020/2018/2018-12-10.csv\n",
      "Data Thesis/Think Tanks/2016-2020/2018/2018-12-17.csv\n",
      "Data Thesis/Think Tanks/2016-2020/2018/2018-12-24.csv\n",
      "Data Thesis/Think Tanks/2016-2020/2019/2018-12-31.csv\n",
      "Data Thesis/Think Tanks/2016-2020/2019/2019-01-07.csv\n",
      "Data Thesis/Think Tanks/2016-2020/2019/2019-01-14.csv\n",
      "Data Thesis/Think Tanks/2016-2020/2019/2019-01-21.csv\n",
      "Data Thesis/Think Tanks/2016-2020/2019/2019-01-28.csv\n",
      "Data Thesis/Think Tanks/2016-2020/2019/2019-02-04.csv\n",
      "Data Thesis/Think Tanks/2016-2020/2019/2019-02-11.csv\n",
      "Data Thesis/Think Tanks/2016-2020/2019/2019-02-18.csv\n",
      "Data Thesis/Think Tanks/2016-2020/2019/2019-02-25.csv\n",
      "Data Thesis/Think Tanks/2016-2020/2019/2019-03-04.csv\n",
      "Data Thesis/Think Tanks/2016-2020/2019/2019-03-11.csv\n",
      "Data Thesis/Think Tanks/2016-2020/2019/2019-03-18.csv\n",
      "Data Thesis/Think Tanks/2016-2020/2019/2019-03-25.csv\n",
      "Data Thesis/Think Tanks/2016-2020/2019/2019-04-01.csv\n",
      "Data Thesis/Think Tanks/2016-2020/2019/2019-04-08.csv\n",
      "Data Thesis/Think Tanks/2016-2020/2019/2019-04-15.csv\n",
      "Data Thesis/Think Tanks/2016-2020/2019/2019-04-22.csv\n",
      "Data Thesis/Think Tanks/2016-2020/2019/2019-04-29.csv\n",
      "Data Thesis/Think Tanks/2016-2020/2019/2019-05-06.csv\n",
      "Data Thesis/Think Tanks/2016-2020/2019/2019-05-13.csv\n",
      "Data Thesis/Think Tanks/2016-2020/2019/2019-05-20.csv\n",
      "Data Thesis/Think Tanks/2016-2020/2019/2019-05-27.csv\n",
      "Data Thesis/Think Tanks/2016-2020/2019/2019-06-03.csv\n",
      "Data Thesis/Think Tanks/2016-2020/2019/2019-06-10.csv\n",
      "Data Thesis/Think Tanks/2016-2020/2019/2019-06-17.csv\n",
      "Data Thesis/Think Tanks/2016-2020/2019/2019-06-24.csv\n",
      "Data Thesis/Think Tanks/2016-2020/2019/2019-07-01.csv\n",
      "Data Thesis/Think Tanks/2016-2020/2019/2019-07-08.csv\n",
      "Data Thesis/Think Tanks/2016-2020/2019/2019-07-15.csv\n",
      "Data Thesis/Think Tanks/2016-2020/2019/2019-07-22.csv\n",
      "Data Thesis/Think Tanks/2016-2020/2019/2019-07-29.csv\n",
      "Data Thesis/Think Tanks/2016-2020/2019/2019-08-05.csv\n",
      "Data Thesis/Think Tanks/2016-2020/2019/2019-08-12.csv\n",
      "Data Thesis/Think Tanks/2016-2020/2019/2019-08-19.csv\n",
      "Data Thesis/Think Tanks/2016-2020/2019/2019-08-26.csv\n",
      "Data Thesis/Think Tanks/2016-2020/2019/2019-09-02.csv\n",
      "Data Thesis/Think Tanks/2016-2020/2019/2019-09-09.csv\n",
      "Data Thesis/Think Tanks/2016-2020/2019/2019-09-16.csv\n",
      "Data Thesis/Think Tanks/2016-2020/2019/2019-09-23.csv\n",
      "Data Thesis/Think Tanks/2016-2020/2019/2019-09-30.csv\n",
      "Data Thesis/Think Tanks/2016-2020/2019/2019-10-07.csv\n",
      "Data Thesis/Think Tanks/2016-2020/2019/2019-10-14.csv\n",
      "Data Thesis/Think Tanks/2016-2020/2019/2019-10-21.csv\n",
      "Data Thesis/Think Tanks/2016-2020/2019/2019-10-28.csv\n",
      "Data Thesis/Think Tanks/2016-2020/2019/2019-11-04.csv\n",
      "Data Thesis/Think Tanks/2016-2020/2019/2019-11-11.csv\n",
      "Data Thesis/Think Tanks/2016-2020/2019/2019-11-18.csv\n",
      "Data Thesis/Think Tanks/2016-2020/2019/2019-11-25.csv\n",
      "Data Thesis/Think Tanks/2016-2020/2019/2019-12-02.csv\n",
      "Data Thesis/Think Tanks/2016-2020/2019/2019-12-09.csv\n",
      "Data Thesis/Think Tanks/2016-2020/2019/2019-12-16.csv\n",
      "Data Thesis/Think Tanks/2016-2020/2019/2019-12-23.csv\n",
      "Data Thesis/Think Tanks/2016-2020/2019/2019-12-30.csv\n",
      "Data Thesis/Think Tanks/2016-2020/2020/2020-01-06.csv\n",
      "Data Thesis/Think Tanks/2016-2020/2020/2020-01-13.csv\n",
      "Data Thesis/Think Tanks/2016-2020/2020/2020-01-20.csv\n",
      "Data Thesis/Think Tanks/2016-2020/2020/2020-01-27.csv\n",
      "Data Thesis/Think Tanks/2016-2020/2020/2020-02-03.csv\n",
      "Data Thesis/Think Tanks/2016-2020/2020/2020-02-10.csv\n",
      "Data Thesis/Think Tanks/2016-2020/2020/2020-02-17.csv\n",
      "Data Thesis/Think Tanks/2016-2020/2020/2020-02-24.csv\n",
      "Data Thesis/Think Tanks/2016-2020/2020/2020-03-02.csv\n",
      "Data Thesis/Think Tanks/2016-2020/2020/2020-03-09.csv\n",
      "Data Thesis/Think Tanks/2016-2020/2020/2020-03-16.csv\n",
      "Data Thesis/Think Tanks/2016-2020/2020/2020-03-23.csv\n",
      "Data Thesis/Think Tanks/2016-2020/2020/2020-03-30.csv\n",
      "Data Thesis/Think Tanks/2016-2020/2020/2020-04-06.csv\n",
      "Data Thesis/Think Tanks/2016-2020/2020/2020-04-13.csv\n",
      "Data Thesis/Think Tanks/2016-2020/2020/2020-04-20.csv\n",
      "Data Thesis/Think Tanks/2016-2020/2020/2020-04-27.csv\n",
      "Data Thesis/Think Tanks/2016-2020/2020/2020-05-04.csv\n",
      "Data Thesis/Think Tanks/2016-2020/2020/2020-05-11.csv\n",
      "Data Thesis/Think Tanks/2016-2020/2020/2020-05-18.csv\n",
      "Data Thesis/Think Tanks/2016-2020/2020/2020-05-25.csv\n",
      "Data Thesis/Think Tanks/2016-2020/2020/2020-06-01.csv\n",
      "Data Thesis/Think Tanks/2016-2020/2020/2020-06-08.csv\n",
      "Data Thesis/Think Tanks/2016-2020/2020/2020-06-15.csv\n",
      "Data Thesis/Think Tanks/2016-2020/2020/2020-06-22.csv\n",
      "Data Thesis/Think Tanks/2016-2020/2020/2020-06-29.csv\n",
      "Data Thesis/Think Tanks/2016-2020/2020/2020-07-06.csv\n",
      "Data Thesis/Think Tanks/2016-2020/2020/2020-07-13.csv\n",
      "Data Thesis/Think Tanks/2016-2020/2020/2020-07-20.csv\n",
      "Data Thesis/Think Tanks/2016-2020/2020/2020-07-27.csv\n",
      "Data Thesis/Think Tanks/2016-2020/2020/2020-08-03.csv\n",
      "Data Thesis/Think Tanks/2016-2020/2020/2020-08-10.csv\n",
      "Data Thesis/Think Tanks/2016-2020/2020/2020-08-17.csv\n",
      "Data Thesis/Think Tanks/2016-2020/2020/2020-08-24.csv\n",
      "Data Thesis/Think Tanks/2016-2020/2020/2020-08-31.csv\n",
      "Data Thesis/Think Tanks/2016-2020/2020/2020-09-07.csv\n",
      "Data Thesis/Think Tanks/2016-2020/2020/2020-09-14.csv\n",
      "Data Thesis/Think Tanks/2016-2020/2020/2020-09-21.csv\n",
      "Data Thesis/Think Tanks/2016-2020/2020/2020-09-28.csv\n",
      "Data Thesis/Think Tanks/2016-2020/2020/2020-10-05.csv\n",
      "Data Thesis/Think Tanks/2016-2020/2020/2020-10-12.csv\n",
      "Data Thesis/Think Tanks/2016-2020/2020/2020-10-19.csv\n",
      "Data Thesis/Think Tanks/2016-2020/2020/2020-10-26.csv\n",
      "Data Thesis/Think Tanks/2016-2020/2020/2020-11-02.csv\n",
      "Data Thesis/Think Tanks/2016-2020/2020/2020-11-09.csv\n",
      "Data Thesis/Think Tanks/2016-2020/2020/2020-11-16.csv\n",
      "Data Thesis/Think Tanks/2016-2020/2020/2020-11-23.csv\n",
      "Data Thesis/Think Tanks/2016-2020/2020/2020-11-30.csv\n",
      "Data Thesis/Think Tanks/2016-2020/2020/2020-12-07.csv\n",
      "Data Thesis/Think Tanks/2016-2020/2020/2020-12-14.csv\n",
      "Data Thesis/Think Tanks/2016-2020/2020/2020-12-21.csv\n",
      "Data Thesis/Think Tanks/2016-2020/2020/2020-12-28.csv\n"
     ]
    }
   ],
   "source": [
    "for name in filenames_ext_tt:\n",
    "    print(name)"
   ]
  },
  {
   "cell_type": "markdown",
   "metadata": {},
   "source": [
    "## SentiStrength Think Tanks 2016-2020"
   ]
  },
  {
   "cell_type": "code",
   "execution_count": 56,
   "metadata": {},
   "outputs": [
    {
     "name": "stderr",
     "output_type": "stream",
     "text": [
      "100%|██████████| 304/304 [18:01:27<00:00, 213.45s/it]  \n"
     ]
    }
   ],
   "source": [
    "s_think_tanks_senti_ext = []\n",
    "r_opec_members2_ext = []\n",
    "r_oil_terms2_ext = []\n",
    "for file_name in tqdm(filenames_ext_tt):\n",
    "    tweets = preprocessing_senti(file_name)\n",
    "    week_sentiment = []\n",
    "    week_opec = 0\n",
    "    week_oil = 0\n",
    "    for tweet in tweets['text']:\n",
    "        #references to oil\n",
    "        if any(word in tweet for word in oil_terms):\n",
    "            week_oil += 1\n",
    "            \n",
    "        #reference to opec members\n",
    "        if any(word in tweet for word in opec_members):\n",
    "            week_opec += 1\n",
    "        \n",
    "        #Sentiment using SentiStrength\n",
    "        result_senti = senti.getSentiment(tweet, score = 'scale')\n",
    "        week_sentiment.append(int(result_senti[0]))\n",
    "    \n",
    "    avg_sentiment = sum(week_sentiment)/len(week_sentiment)\n",
    "    s_think_tanks_senti_ext.append(avg_sentiment)\n",
    "    r_opec_members2_ext.append(week_opec)\n",
    "    r_oil_terms2_ext.append(week_oil)"
   ]
  },
  {
   "cell_type": "code",
   "execution_count": 57,
   "metadata": {},
   "outputs": [
    {
     "name": "stdout",
     "output_type": "stream",
     "text": [
      "-0.5844298245614035 -0.0945054945054945\n"
     ]
    }
   ],
   "source": [
    "print(min(s_think_tanks_senti_ext), max(s_think_tanks_senti_ext))"
   ]
  },
  {
   "cell_type": "code",
   "execution_count": 58,
   "metadata": {},
   "outputs": [
    {
     "name": "stdout",
     "output_type": "stream",
     "text": [
      "0 11\n"
     ]
    }
   ],
   "source": [
    "print(min(r_opec_members2_ext), max(r_opec_members2_ext))"
   ]
  },
  {
   "cell_type": "code",
   "execution_count": 63,
   "metadata": {},
   "outputs": [
    {
     "name": "stdout",
     "output_type": "stream",
     "text": [
      "0 41\n"
     ]
    }
   ],
   "source": [
    "print(min(r_oil_terms_ext), max(r_oil_terms_ext))"
   ]
  },
  {
   "cell_type": "code",
   "execution_count": 62,
   "metadata": {},
   "outputs": [],
   "source": [
    "with open(\"Data Thesis/Think Tanks/2016-2020/week_sentiment_senti_ext.txt\", \"wb\") as fp:   #Pickling\n",
    "    pickle.dump(s_think_tanks_senti_ext, fp)"
   ]
  },
  {
   "cell_type": "markdown",
   "metadata": {},
   "source": [
    "\n",
    "# Preprocessor of CoreNLP"
   ]
  },
  {
   "cell_type": "code",
   "execution_count": 250,
   "metadata": {},
   "outputs": [],
   "source": [
    "def process_raw_tweet(tweet):\n",
    "    tweet = tweet['text']\n",
    "    # Convert to lower case\n",
    "    tweet = tweet.lower()\n",
    "    # Convert www.* or https?://* to ''\n",
    "    tweet = re.sub('((www\\.[^\\s]+)|(https?://[^\\s]+))', '', tweet)\n",
    "    # Convert @username to ''\n",
    "    tweet = re.sub('@[^\\s]+', '', tweet)\n",
    "    \n",
    "    # Remove additional white spaces\n",
    "    tweet = re.sub('[\\s]+', ' ', tweet)\n",
    "    # Replace #word with word\n",
    "    # Need more detail sub, #SoUgly => so ugly\n",
    "    tweet = re.sub(r'#([^\\s]+)', r'\\1', tweet)\n",
    "    # Replace punctuation\n",
    "    tweet = re.sub('[^\\w\\s]', '', tweet)\n",
    "    # Remove numbers\n",
    "    tweet = re.sub(r\"\\d\", \"\", tweet)\n",
    "    \n",
    "    split_tweet = tweet.split()\n",
    "    for word in split_tweet:\n",
    "        if (any(vowel in word for vowel in 'aeiou')) == False:\n",
    "            tweet = re.sub(word, '', tweet)\n",
    "        if word == 'mmbtu':\n",
    "            tweet = re.sub(word, '', tweet)\n",
    "        if word == 'mmbblday':\n",
    "            tweet = re.sub(word, '', tweet)\n",
    "        if (any(day in word for day in ['mon', 'thurs', 'fri'])) == True:\n",
    "            tweet = re.sub(word, word + 'day', tweet)\n",
    "        if word == 'wed':\n",
    "            tweet = re.sub(word, 'wednesday', tweet)\n",
    "        if word == 'sat':\n",
    "            tweet = re.sub(word, 'saturday', tweet)\n",
    "        if word == 'tue' or word == 'tues':\n",
    "            tweet = re.sub(word, 'tuesday', tweet)\n",
    "        if word == 'natgas':\n",
    "            tweet = re.sub(word, 'natural gas', tweet)\n",
    "        if word == 'avg':\n",
    "            tweet = re.sub(word, 'average', tweet)\n",
    "        if word == 'prev':\n",
    "            tweet = re.sub(word, 'previous', tweet)\n",
    "        if word == 'stat' or word == 'stats':\n",
    "            tweet = re.sub(word, 'statistics', tweet)\n",
    "        if word == 'jan':\n",
    "            tweet = re.sub(word, 'january', tweet)\n",
    "        if word == 'feb':\n",
    "            tweet = re.sub(word, 'february', tweet)\n",
    "        if word == 'aug':\n",
    "            tweet = re.sub(word, 'august', tweet)\n",
    "        if word == 'sept':\n",
    "            tweet = re.sub(word, 'september', tweet)\n",
    "        if word == 'oct':\n",
    "            tweet = re.sub(word, 'october', tweet)\n",
    "        if word == 'nov':\n",
    "            tweet = re.sub(word, 'november', tweet)\n",
    "        if word == 'dec':\n",
    "            tweet = re.sub(word, 'december', tweet)\n",
    "    tweet = truecase.get_true_case(tweet)\n",
    "        \n",
    "    # trim\n",
    "    tweet = tweet.strip('\\'\"')\n",
    "    return tweet"
   ]
  },
  {
   "cell_type": "code",
   "execution_count": 210,
   "metadata": {},
   "outputs": [],
   "source": [
    "#preprocessor 1\n",
    "def preprocessing_corenlp2(doc_name):\n",
    "    df = pd.read_csv(doc_name, lineterminator='\\n')\n",
    "    \n",
    "    #dropping rows that contain na values\n",
    "    df = df.dropna()\n",
    "    \n",
    "    #dropping duplicates from the data\n",
    "    df = df.drop_duplicates()\n",
    "    \n",
    "    #selecting tweets where language is english\n",
    "    df = df[df['language'] == 'en']\n",
    "    \n",
    "    #selecting tweets that are job/intern offers\n",
    "    df = df[~df.text.str.contains('Offre')]\n",
    "    \n",
    "    #applying the preprocessing to the tweets\n",
    "    df['text'] = df.apply(process_raw_tweet, axis = 1)\n",
    "    \n",
    "    df = df[~df.text.str.contains('hiring')]\n",
    "    df = df[~df.text.str.contains('hire')]\n",
    "    df = df[~df.text.str.contains('apply')]\n",
    "    df = df[~df.text.str.contains('recruit')]\n",
    "    df = df[~df.text.str.contains('new jobs')]\n",
    "    df = df[~df.text.str.contains('career')]\n",
    "    \n",
    "    #dropping duplicates from the data\n",
    "    df = df.drop_duplicates()\n",
    "    \n",
    "    return df"
   ]
  },
  {
   "cell_type": "markdown",
   "metadata": {},
   "source": [
    "## Core NLP Oil Companies 2011-2015"
   ]
  },
  {
   "cell_type": "code",
   "execution_count": null,
   "metadata": {},
   "outputs": [],
   "source": [
    "opec_members = ['iran', 'iraq', 'kuwait', 'saudi arabia', 'venezuela', 'qatar', 'indonesia', 'libya', 'uae', 'united arab emirates', \n",
    "               'algeria', 'nigeria', 'ecuador', 'gabon', 'angola', 'guinea', 'equatorial guinea', 'congo']\n",
    "\n",
    "oil_terms = ['oil', 'brent', 'petroleum', 'fuel', 'gasoline', 'kerosene', 'petrol', 'grease', 'lubricant', 'black gold']"
   ]
  },
  {
   "cell_type": "code",
   "execution_count": 262,
   "metadata": {},
   "outputs": [
    {
     "name": "stderr",
     "output_type": "stream",
     "text": [
      "100%|██████████| 218/218 [1:10:56<00:00, 19.53s/it]\n"
     ]
    }
   ],
   "source": [
    "s_oil_companies_nlp2 = []\n",
    "for file_name in tqdm(filenames):\n",
    "    tweets = preprocessing_corenlp2(file_name)\n",
    "    week_sentiment = []\n",
    "    for tweet in tweets['text']:\n",
    "        #Sentiment using Stanford CoreNLP\n",
    "        result_nlp = nlp.annotate(tweet,\n",
    "                   properties={\n",
    "                       'annotators': 'sentiment',\n",
    "                       'outputFormat': 'json',\n",
    "                       'timeout': 10000,\n",
    "                   })\n",
    "        for s in result_nlp[\"sentences\"]:\n",
    "            week_sentiment.append(int(s['sentimentValue']))\n",
    "        \n",
    "    avg_sentiment = sum(week_sentiment)/len(week_sentiment)\n",
    "    s_oil_companies_nlp2.append(avg_sentiment)"
   ]
  },
  {
   "cell_type": "code",
   "execution_count": 264,
   "metadata": {},
   "outputs": [],
   "source": [
    "with open(\"Data Thesis/Oil Companies/2011-2015/week_sentiment_corenlp_new.txt\", \"wb\") as fp:   #Pickling\n",
    "    pickle.dump(s_oil_companies_nlp2, fp)"
   ]
  },
  {
   "cell_type": "code",
   "execution_count": 263,
   "metadata": {},
   "outputs": [
    {
     "name": "stdout",
     "output_type": "stream",
     "text": [
      "1.98 2.293051359516616\n"
     ]
    }
   ],
   "source": [
    "print(min(s_oil_companies_nlp2), max(s_oil_companies_nlp2))"
   ]
  },
  {
   "cell_type": "markdown",
   "metadata": {},
   "source": [
    "## Core NLP Think Tanks 2011-2015"
   ]
  },
  {
   "cell_type": "code",
   "execution_count": 267,
   "metadata": {},
   "outputs": [
    {
     "name": "stderr",
     "output_type": "stream",
     "text": [
      "100%|██████████| 218/218 [1:53:32<00:00, 31.25s/it]\n"
     ]
    }
   ],
   "source": [
    "s_think_tanks_nlp2 = []\n",
    "r_opec_members3 = []\n",
    "r_oil_terms3 = []\n",
    "for file_name in tqdm(filenames_tt):\n",
    "    tweets = preprocessing_corenlp2(file_name)\n",
    "    week_sentiment = []\n",
    "    week_opec = 0\n",
    "    week_oil = 0\n",
    "    for tweet in tweets['text']:\n",
    "        #references to oil\n",
    "        if any(word in tweet.lower() for word in oil_terms):\n",
    "            week_oil += 1\n",
    "            \n",
    "        #reference to opec members\n",
    "        if any(word in tweet.lower() for word in opec_members):\n",
    "            week_opec += 1\n",
    "        \n",
    "        #Sentiment using Stanford CoreNLP\n",
    "        result_nlp = nlp.annotate(tweet,\n",
    "                   properties={\n",
    "                       'annotators': 'sentiment',\n",
    "                       'outputFormat': 'json',\n",
    "                       'timeout': 10000,\n",
    "                   })\n",
    "        for s in result_nlp[\"sentences\"]:\n",
    "            week_sentiment.append(int(s['sentimentValue']))\n",
    "        \n",
    "    avg_sentiment = sum(week_sentiment)/len(week_sentiment)\n",
    "    s_think_tanks_nlp2.append(avg_sentiment)\n",
    "    r_opec_members3.append(week_opec)\n",
    "    r_oil_terms3.append(week_oil)"
   ]
  },
  {
   "cell_type": "code",
   "execution_count": 280,
   "metadata": {},
   "outputs": [],
   "source": [
    "with open(\"Data Thesis/Think Tanks/2011-2015/week_sentiment_corenlp_new.txt\", \"wb\") as fp:   #Pickling\n",
    "    pickle.dump(s_think_tanks_nlp2, fp)"
   ]
  },
  {
   "cell_type": "code",
   "execution_count": 268,
   "metadata": {},
   "outputs": [
    {
     "name": "stdout",
     "output_type": "stream",
     "text": [
      "1.8402777777777777 2.0671140939597317\n"
     ]
    }
   ],
   "source": [
    "print(min(s_think_tanks_nlp2), max(s_think_tanks_nlp2))"
   ]
  },
  {
   "cell_type": "code",
   "execution_count": 163,
   "metadata": {},
   "outputs": [],
   "source": [
    "with open(\"Data Thesis/Think Tanks/2011-2015/week_sentiment_corenlp.txt\", \"rb\") as fp:   # Unpickling\n",
    "    eufp_nlp = pickle.load(fp)"
   ]
  },
  {
   "cell_type": "code",
   "execution_count": 164,
   "metadata": {},
   "outputs": [
    {
     "name": "stdout",
     "output_type": "stream",
     "text": [
      "1.8486486486486486 2.1320754716981134\n"
     ]
    }
   ],
   "source": [
    "print(min(eufp_nlp), max(eufp_nlp))"
   ]
  },
  {
   "cell_type": "code",
   "execution_count": 269,
   "metadata": {},
   "outputs": [
    {
     "name": "stdout",
     "output_type": "stream",
     "text": [
      "0 15\n"
     ]
    }
   ],
   "source": [
    "print(min(r_oil_terms3), max(r_oil_terms3))"
   ]
  },
  {
   "cell_type": "code",
   "execution_count": 270,
   "metadata": {},
   "outputs": [
    {
     "name": "stdout",
     "output_type": "stream",
     "text": [
      "1 76\n"
     ]
    }
   ],
   "source": [
    "print(min(r_opec_members3), max(r_opec_members3))"
   ]
  },
  {
   "cell_type": "markdown",
   "metadata": {},
   "source": [
    "## Core NLP Oil Companies 2016-2020"
   ]
  },
  {
   "cell_type": "code",
   "execution_count": 279,
   "metadata": {},
   "outputs": [
    {
     "name": "stderr",
     "output_type": "stream",
     "text": [
      "100%|██████████| 304/304 [5:35:09<00:00, 66.15s/it]   \n"
     ]
    }
   ],
   "source": [
    "s_oil_companies_nlp3 = []\n",
    "for file_name in tqdm(filenames_ext):\n",
    "    tweets = preprocessing_corenlp2(file_name)\n",
    "    week_sentiment = []\n",
    "    for tweet in tweets['text']:\n",
    "        #Sentiment using Stanford CoreNLP\n",
    "        result_nlp = nlp.annotate(tweet,\n",
    "                   properties={\n",
    "                       'annotators': 'sentiment',\n",
    "                       'outputFormat': 'json',\n",
    "                       'timeout': 10000,\n",
    "                   })\n",
    "        for s in result_nlp[\"sentences\"]:\n",
    "            week_sentiment.append(int(s['sentimentValue']))\n",
    "        \n",
    "    avg_sentiment = sum(week_sentiment)/len(week_sentiment)\n",
    "    s_oil_companies_nlp3.append(avg_sentiment)"
   ]
  },
  {
   "cell_type": "code",
   "execution_count": 281,
   "metadata": {},
   "outputs": [
    {
     "name": "stdout",
     "output_type": "stream",
     "text": [
      "1.7897959183673469 2.4219409282700424\n"
     ]
    }
   ],
   "source": [
    "print(min(s_oil_companies_nlp3), max(s_oil_companies_nlp3))"
   ]
  },
  {
   "cell_type": "code",
   "execution_count": 285,
   "metadata": {},
   "outputs": [],
   "source": [
    "with open(\"Data Thesis/Oil Companies/2016-2020/week_sentiment_corenlp_ext_new.txt\", \"wb\") as fp:   #Pickling\n",
    "    pickle.dump(s_oil_companies_nlp3, fp)"
   ]
  },
  {
   "cell_type": "code",
   "execution_count": 282,
   "metadata": {},
   "outputs": [],
   "source": [
    "with open(\"Data Thesis/Oil companies/2016-2020/week_sentiment_corenlp_ext.txt\", \"rb\") as fp:   # Unpickling\n",
    "    oil_nlp = pickle.load(fp)"
   ]
  },
  {
   "cell_type": "code",
   "execution_count": 283,
   "metadata": {},
   "outputs": [
    {
     "name": "stdout",
     "output_type": "stream",
     "text": [
      "2.0045454545454544 2.5411585365853657\n"
     ]
    }
   ],
   "source": [
    "print(min(oil_nlp), max(oil_nlp))"
   ]
  },
  {
   "cell_type": "markdown",
   "metadata": {},
   "source": [
    "## Core NLP Think Tanks 2016-2020"
   ]
  },
  {
   "cell_type": "code",
   "execution_count": 287,
   "metadata": {},
   "outputs": [
    {
     "name": "stderr",
     "output_type": "stream",
     "text": [
      "100%|██████████| 304/304 [12:00:31<00:00, 142.21s/it]  \n"
     ]
    }
   ],
   "source": [
    "s_think_tanks_nlp3 = []\n",
    "r_opec_members4 = []\n",
    "r_oil_terms4 = []\n",
    "for file_name in tqdm(filenames_ext_tt):\n",
    "    tweets = preprocessing_corenlp2(file_name)\n",
    "    week_sentiment = []\n",
    "    week_opec = 0\n",
    "    week_oil = 0\n",
    "    for tweet in tweets['text']:\n",
    "        #references to oil\n",
    "        if any(word in tweet.lower() for word in oil_terms):\n",
    "            week_oil += 1\n",
    "            \n",
    "        #reference to opec members\n",
    "        if any(word in tweet.lower() for word in opec_members):\n",
    "            week_opec += 1\n",
    "        \n",
    "        #Sentiment using Stanford CoreNLP\n",
    "        result_nlp = nlp.annotate(tweet,\n",
    "                   properties={\n",
    "                       'annotators': 'sentiment',\n",
    "                       'outputFormat': 'json',\n",
    "                       'timeout': 10000,\n",
    "                   })\n",
    "        for s in result_nlp[\"sentences\"]:\n",
    "            week_sentiment.append(int(s['sentimentValue']))\n",
    "        \n",
    "    avg_sentiment = sum(week_sentiment)/len(week_sentiment)\n",
    "    s_think_tanks_nlp3.append(avg_sentiment)\n",
    "    r_opec_members4.append(week_opec)\n",
    "    r_oil_terms4.append(week_oil)"
   ]
  },
  {
   "cell_type": "code",
   "execution_count": 290,
   "metadata": {},
   "outputs": [
    {
     "name": "stdout",
     "output_type": "stream",
     "text": [
      "1.7977207977207976 1.9967741935483871\n"
     ]
    }
   ],
   "source": [
    "print(min(s_think_tanks_nlp3), max(s_think_tanks_nlp3))"
   ]
  },
  {
   "cell_type": "code",
   "execution_count": 293,
   "metadata": {},
   "outputs": [],
   "source": [
    "with open(\"Data Thesis/Think Tanks/2016-2020/week_sentiment_corenlp_ext_new.txt\", \"wb\") as fp:   #Pickling\n",
    "    pickle.dump(s_oil_companies_nlp3, fp)"
   ]
  },
  {
   "cell_type": "code",
   "execution_count": 291,
   "metadata": {},
   "outputs": [
    {
     "name": "stdout",
     "output_type": "stream",
     "text": [
      "8 124\n"
     ]
    }
   ],
   "source": [
    "print(min(r_opec_members4), max(r_opec_members4))"
   ]
  },
  {
   "cell_type": "code",
   "execution_count": 292,
   "metadata": {},
   "outputs": [
    {
     "name": "stdout",
     "output_type": "stream",
     "text": [
      "0 41\n"
     ]
    }
   ],
   "source": [
    "print(min(r_oil_terms4), max(r_oil_terms4))"
   ]
  },
  {
   "cell_type": "markdown",
   "metadata": {},
   "source": [
    "## Converting absolute frequencies to percentages "
   ]
  },
  {
   "cell_type": "code",
   "execution_count": 171,
   "metadata": {},
   "outputs": [
    {
     "name": "stderr",
     "output_type": "stream",
     "text": [
      "100%|██████████| 218/218 [00:01<00:00, 195.75it/s]\n"
     ]
    }
   ],
   "source": [
    "no_tweets_tt = []\n",
    "for file_name in tqdm(filenames_tt):\n",
    "    df = pd.read_csv(file_name, lineterminator='\\n')\n",
    "    no_tweets_tt.append(len(df))"
   ]
  },
  {
   "cell_type": "code",
   "execution_count": 294,
   "metadata": {},
   "outputs": [
    {
     "name": "stderr",
     "output_type": "stream",
     "text": [
      "100%|██████████| 304/304 [00:03<00:00, 94.65it/s] \n"
     ]
    }
   ],
   "source": [
    "no_tweets_tt_ext = []\n",
    "for file_name in tqdm(filenames_ext_tt):\n",
    "    df = pd.read_csv(file_name, lineterminator='\\n')\n",
    "    no_tweets_tt_ext.append(len(df))"
   ]
  },
  {
   "cell_type": "code",
   "execution_count": 186,
   "metadata": {},
   "outputs": [
    {
     "name": "stdout",
     "output_type": "stream",
     "text": [
      "[122, 134, 185, 157, 248, 185, 174, 180, 204, 250, 255, 310, 233, 198, 216, 184, 129, 194, 324, 279, 371, 285, 268, 298, 197, 520, 171, 284, 216, 295, 187, 188, 121, 164, 125, 223, 220, 324, 293, 275, 286, 264, 501, 233, 233, 324, 326, 302, 349, 366, 219, 73, 139, 243, 289, 289, 328, 276, 281, 329, 371, 435, 322, 374, 279, 278, 230, 570, 425, 348, 435, 474, 371, 546, 358, 343, 531, 494, 371, 364, 311, 402, 357, 256, 239, 258, 255, 353, 474, 457, 393, 455, 466, 727, 395, 358, 466, 491, 467, 540, 519, 455, 386, 135, 174, 363, 404, 482, 665, 484, 467, 361, 477, 493, 468, 620, 545, 432, 494, 515, 549, 434, 521, 431, 403, 574, 743, 540, 564, 497, 469, 423, 394, 311, 336, 334, 311, 294, 353, 417, 506, 606, 515, 511, 521, 646, 681, 640, 639, 633, 681, 806, 763, 641, 623, 160, 174, 479, 560, 709, 746, 620, 622, 834, 717, 759, 780, 747, 731, 1004, 706, 586, 476, 516, 650, 759, 631, 691, 916, 618, 621, 783, 598, 721, 631, 597, 439, 443, 383, 448, 466, 693, 825, 758, 634, 766, 968, 840, 825, 674, 792, 715, 775, 622, 790, 869, 609, 250, 213, 481, 683, 780, 807, 751, 856, 647, 830, 1030]\n"
     ]
    }
   ],
   "source": [
    "print(no_tweets_tt)"
   ]
  },
  {
   "cell_type": "code",
   "execution_count": 295,
   "metadata": {},
   "outputs": [
    {
     "name": "stdout",
     "output_type": "stream",
     "text": [
      "[860, 951, 794, 662, 608, 786, 995, 777, 1125, 899, 1026, 926, 969, 880, 1023, 942, 958, 794, 921, 698, 600, 543, 472, 469, 621, 706, 965, 1050, 1019, 1081, 1061, 959, 1113, 1134, 1077, 1198, 1047, 934, 1119, 897, 980, 387, 323, 629, 801, 842, 1053, 897, 962, 1021, 1025, 855, 820, 965, 632, 690, 800, 945, 1128, 1077, 831, 980, 912, 1211, 1276, 1077, 1454, 1274, 1427, 1593, 1076, 840, 693, 675, 622, 533, 606, 626, 1011, 964, 979, 1121, 1119, 1129, 1066, 1020, 1163, 1279, 1172, 1220, 1368, 1463, 1227, 878, 557, 722, 1033, 1027, 1115, 1046, 1191, 1215, 1286, 1151, 1186, 1251, 1378, 1333, 1229, 1081, 1183, 1331, 1137, 1269, 1232, 1192, 1437, 1277, 1265, 1523, 1542, 1397, 1162, 1086, 1023, 938, 882, 776, 923, 990, 1164, 1289, 1431, 1168, 1294, 1481, 1579, 1272, 1156, 1545, 1429, 1676, 1591, 1487, 1225, 1108, 670, 846, 1176, 1198, 1385, 1177, 1064, 1004, 1143, 1056, 1082, 1013, 1040, 941, 701, 1092, 1056, 957, 848, 904, 1046, 1003, 1128, 1132, 1067, 1253, 1157, 930, 1081, 833, 744, 771, 697, 647, 655, 714, 931, 949, 1101, 1003, 1014, 1103, 1044, 1004, 861, 1124, 1055, 1085, 1139, 1237, 1122, 1120, 612, 677, 973, 1186, 1245, 1287, 1226, 1231, 1305, 1179, 1262, 1116, 1221, 1163, 1133, 1111, 1011, 1071, 968, 1160, 1220, 1166, 1001, 1018, 968, 1119, 1070, 895, 971, 993, 877, 830, 691, 648, 594, 645, 862, 1001, 941, 1030, 935, 999, 1181, 1027, 802, 1143, 952, 1286, 1064, 1439, 1135, 1029, 385, 508, 807, 827, 975, 966, 978, 1005, 968, 953, 1004, 864, 862, 1010, 1079, 1057, 877, 1111, 1214, 1217, 1213, 1203, 1293, 1157, 1275, 1243, 1261, 1292, 1123, 1126, 915, 795, 669, 698, 625, 624, 1092, 1048, 1136, 1070, 1172, 918, 1408, 1103, 1471, 1072, 1215, 1232, 1426, 1638, 1534, 1199, 666, 564]\n"
     ]
    }
   ],
   "source": [
    "print(no_tweets_tt_ext)"
   ]
  },
  {
   "cell_type": "code",
   "execution_count": 271,
   "metadata": {},
   "outputs": [],
   "source": [
    "arr_oil_terms = np.asarray(r_oil_terms3)\n",
    "arr_no_tweets_tt = np.asarray(no_tweets_tt)"
   ]
  },
  {
   "cell_type": "code",
   "execution_count": 272,
   "metadata": {},
   "outputs": [],
   "source": [
    "per_oil_terms = arr_oil_terms / arr_no_tweets_tt"
   ]
  },
  {
   "cell_type": "code",
   "execution_count": 273,
   "metadata": {},
   "outputs": [],
   "source": [
    "per_oil_terms_list = per_oil_terms.tolist()"
   ]
  },
  {
   "cell_type": "code",
   "execution_count": 274,
   "metadata": {},
   "outputs": [],
   "source": [
    "with open(\"Data Thesis/Think Tanks/2011-2015/percentage_references_oil_new.txt\", \"wb\") as fp:   #Pickling\n",
    "    pickle.dump(per_oil_terms_list, fp)"
   ]
  },
  {
   "cell_type": "code",
   "execution_count": 275,
   "metadata": {},
   "outputs": [],
   "source": [
    "arr_opec_members = np.asarray(r_opec_members3)"
   ]
  },
  {
   "cell_type": "code",
   "execution_count": 276,
   "metadata": {},
   "outputs": [],
   "source": [
    "per_opec_members = arr_opec_members / arr_no_tweets_tt"
   ]
  },
  {
   "cell_type": "code",
   "execution_count": 277,
   "metadata": {},
   "outputs": [],
   "source": [
    "per_opec_members_list = per_opec_members.tolist()"
   ]
  },
  {
   "cell_type": "code",
   "execution_count": 278,
   "metadata": {},
   "outputs": [],
   "source": [
    "with open(\"Data Thesis/Think Tanks/2011-2015/percentage_references_opec_new.txt\", \"wb\") as fp:   #Pickling\n",
    "    pickle.dump(per_opec_members_list, fp)"
   ]
  },
  {
   "cell_type": "code",
   "execution_count": 296,
   "metadata": {},
   "outputs": [],
   "source": [
    "arr_oil_terms_ext = np.asarray(r_oil_terms4)\n",
    "arr_no_tweets_tt_ext = np.asarray(no_tweets_tt_ext)"
   ]
  },
  {
   "cell_type": "code",
   "execution_count": 297,
   "metadata": {},
   "outputs": [],
   "source": [
    "per_oil_terms_ext = arr_oil_terms_ext / arr_no_tweets_tt_ext"
   ]
  },
  {
   "cell_type": "code",
   "execution_count": 299,
   "metadata": {},
   "outputs": [],
   "source": [
    "per_oil_terms_ext_list = per_oil_terms_ext.tolist()"
   ]
  },
  {
   "cell_type": "code",
   "execution_count": 300,
   "metadata": {},
   "outputs": [],
   "source": [
    "with open(\"Data Thesis/Think Tanks/2016-2020/percentage_references_oil_new.txt\", \"wb\") as fp:   #Pickling\n",
    "    pickle.dump(per_oil_terms_ext_list, fp)"
   ]
  },
  {
   "cell_type": "code",
   "execution_count": 301,
   "metadata": {},
   "outputs": [],
   "source": [
    "arr_opec_members_ext = np.asarray(r_opec_members4)"
   ]
  },
  {
   "cell_type": "code",
   "execution_count": 302,
   "metadata": {},
   "outputs": [],
   "source": [
    "per_opec_members_ext = arr_opec_members_ext / arr_no_tweets_tt_ext"
   ]
  },
  {
   "cell_type": "code",
   "execution_count": 303,
   "metadata": {},
   "outputs": [],
   "source": [
    "per_opec_members_ext_list = per_opec_members_ext.tolist()"
   ]
  },
  {
   "cell_type": "code",
   "execution_count": 304,
   "metadata": {},
   "outputs": [],
   "source": [
    "with open(\"Data Thesis/Think Tanks/2016-2020/percentage_references_opec_new.txt\", \"wb\") as fp:   #Pickling\n",
    "    pickle.dump(per_opec_members_ext_list, fp)"
   ]
  },
  {
   "cell_type": "code",
   "execution_count": null,
   "metadata": {},
   "outputs": [],
   "source": []
  },
  {
   "cell_type": "code",
   "execution_count": null,
   "metadata": {},
   "outputs": [],
   "source": []
  }
 ],
 "metadata": {
  "kernelspec": {
   "display_name": "Python 3",
   "language": "python",
   "name": "python3"
  },
  "language_info": {
   "codemirror_mode": {
    "name": "ipython",
    "version": 3
   },
   "file_extension": ".py",
   "mimetype": "text/x-python",
   "name": "python",
   "nbconvert_exporter": "python",
   "pygments_lexer": "ipython3",
   "version": "3.8.3"
  }
 },
 "nbformat": 4,
 "nbformat_minor": 4
}
